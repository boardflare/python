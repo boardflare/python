{
 "cells": [
  {
   "cell_type": "code",
   "execution_count": null,
   "metadata": {
    "tags": [
     "code"
    ]
   },
   "outputs": [],
   "source": [
    "import pandas as pd\n",
    "\n",
    "def capitalize(text):\n",
    "    \"\"\"Convert input text to uppercase.\n",
    "\n",
    "    Handles different input types including single strings, lists of strings,\n",
    "    and pandas Series objects.\n",
    "\n",
    "    Args:\n",
    "        text: Input to capitalize. Can be one of:\n",
    "            - str: A single string\n",
    "            - list: A list of strings\n",
    "            - pandas.Series: A pandas Series containing strings\n",
    "\n",
    "    Returns:\n",
    "        The input text converted to uppercase, maintaining the input type:\n",
    "            - str: Uppercase string\n",
    "            - list: List of uppercase strings\n",
    "            - pandas.Series: Series with uppercase strings\n",
    "\n",
    "    Raises:\n",
    "        TypeError: If input is not a string, list of strings, or pandas Series\n",
    "\n",
    "    Examples:\n",
    "        # String input\n",
    "        >>> capitalize('hello')\n",
    "        'HELLO'\n",
    "\n",
    "        # List input\n",
    "        >>> capitalize(['hello', 'world'])\n",
    "        ['HELLO', 'WORLD']\n",
    "\n",
    "        # Pandas Series input\n",
    "        >>> import pandas as pd\n",
    "        >>> s = pd.Series(['hello', 'world'])\n",
    "        >>> capitalize(s)\n",
    "        0    HELLO\n",
    "        1    WORLD\n",
    "        dtype: object\n",
    "    \"\"\"\n",
    "    if isinstance(text, str):\n",
    "        return text.upper()\n",
    "    elif isinstance(text, list):\n",
    "        return [s.upper() for s in text]\n",
    "    elif isinstance(text, pd.Series):\n",
    "        return text.str.upper()\n",
    "    raise TypeError(\"Input must be a string, list of strings, or pandas Series\")\n",
    "\n",
    "# Example usage\n",
    "arg1 = pd.DataFrame({'text': ['foo', 'bar', 'baz', 'qux']})['text']\n",
    "result = capitalize(arg1)\n",
    "print(result)"
   ]
  }
 ],
 "metadata": {
  "bfid": "426614174002",
  "gist_id": "2decf6c462d9b4418f2",
  "kernelspec": {
   "display_name": "Python 3",
   "language": "python",
   "name": "python3"
  },
  "language_info": {
   "codemirror_mode": {
    "name": "ipython",
    "version": 3
   },
   "file_extension": ".py",
   "mimetype": "text/x-python",
   "name": "python",
   "nbconvert_exporter": "python",
   "pygments_lexer": "ipython3",
   "version": "3.12.6"
  }
 },
 "nbformat": 4,
 "nbformat_minor": 2
}
