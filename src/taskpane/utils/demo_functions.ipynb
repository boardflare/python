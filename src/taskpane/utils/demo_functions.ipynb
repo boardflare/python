{
    "cells": [
        {
            "cell_type": "code",
            "execution_count": null,
            "id": "8384688e",
            "metadata": {},
            "outputs": [],
            "source": [
                "def run_tests(func, test_cases):\n",
                "    \"\"\"\n",
                "    Function to run test_cases which must be in Gradio examples format\n",
                "    Args:\n",
                "        func: The function to test\n",
                "        test_cases: List of test_cases in same format as examples in gr.Interface\n",
                "    \"\"\"\n",
                "    if not test_cases:\n",
                "        raise ValueError(\"No test_cases provided\")\n",
                "    \n",
                "    if not isinstance(test_cases, list):\n",
                "        raise TypeError(\"test_cases should be provided as a list\")\n",
                "    \n",
                "    print(f\"Running {len(test_cases)} test cases for {func.__name__}\")\n",
                "    print(\"=====================================\")\n",
                "\n",
                "    for i, case in enumerate(test_cases):\n",
                "        if not isinstance(case, list):\n",
                "            raise TypeError(f\"Case {i+1} should be a list, even if it only has one argument, e.g. [3]\")\n",
                "            \n",
                "        try:\n",
                "            # Simply pass all inputs directly to the function\n",
                "            result = func(*case)\n",
                "            print(f\"Case {i+1}: {case} -> {result}\")\n",
                "        except Exception as e:\n",
                "            print(f\"Case {i+1} failed: {str(e)}\")"
            ]
        },
        {
            "cell_type": "code",
            "execution_count": 2,
            "id": "calculate-area",
            "metadata": {},
            "outputs": [
                {
                    "name": "stdout",
                    "output_type": "stream",
                    "text": [
                        "Running 5 test cases for calculate_area\n",
                        "=====================================\n",
                        "Case 1: [5, 4] -> 20\n",
                        "Case 2: [2.5, 4] -> 10.0\n",
                        "Case 3: [10, 10] -> 100\n",
                        "Case 4: [1, 1] -> 1\n",
                        "Case 5: [0.5, 2] -> 1.0\n"
                    ]
                }
            ],
            "source": [
                "def calculate_area(length, width):\n",
                "    \"\"\"Calculate area of rectangle.\n",
                "    Args:\n",
                "        length (float): Length of rectangle\n",
                "        width (float): Width of rectangle\n",
                "    Returns:\n",
                "        float: Area of rectangle\n",
                "    \"\"\"\n",
                "    return length * width\n",
                "\n",
                "test_cases = [\n",
                "    [5, 4],      # -> 20\n",
                "    [2.5, 4],    # -> 10\n",
                "    [10, 10],    # -> 100\n",
                "    [1, 1],      # -> 1\n",
                "    [0.5, 2]     # -> 1\n",
                "]\n",
                "\n",
                "# Excel usage: =CALCULATE_AREA(5, 4)\n",
                "\n",
                "run_tests(calculate_area, test_cases)"
            ]
        },
        {
            "cell_type": "code",
            "execution_count": 3,
            "id": "join-strings",
            "metadata": {},
            "outputs": [
                {
                    "name": "stdout",
                    "output_type": "stream",
                    "text": [
                        "Running 5 test cases for join_strings\n",
                        "=====================================\n",
                        "Case 1: ['hello', 'world', ' '] -> hello world\n",
                        "Case 2: ['first', 'last', '-'] -> first-last\n",
                        "Case 3: ['a', 'b', '_'] -> a_b\n",
                        "Case 4: ['python', 'code', '::'] -> python::code\n",
                        "Case 5: ['x', 'y', ''] -> xy\n"
                    ]
                }
            ],
            "source": [
                "def join_strings(first_str, second_str, separator):\n",
                "    \"\"\"Join two strings with a separator.\n",
                "    Args:\n",
                "        first_str (str): First string\n",
                "        second_str (str): Second string\n",
                "        separator (str): Separator between strings\n",
                "    Returns:\n",
                "        str: Joined string\n",
                "    \"\"\"\n",
                "    return f\"{first_str}{separator}{second_str}\"\n",
                "\n",
                "test_cases = [\n",
                "    [\"hello\", \"world\", \" \"],      # -> \"hello world\"\n",
                "    [\"first\", \"last\", \"-\"],       # -> \"first-last\"\n",
                "    [\"a\", \"b\", \"_\"],             # -> \"a_b\"\n",
                "    [\"python\", \"code\", \"::\"],     # -> \"python::code\"\n",
                "    [\"x\", \"y\", \"\"]               # -> \"xy\"\n",
                "]\n",
                "\n",
                "# Excel usage: =JOIN_STRINGS(\"hello\", \"world\", \" \")\n",
                "\n",
                "run_tests(join_strings, test_cases)"
            ]
        },
        {
            "cell_type": "code",
            "execution_count": 4,
            "id": "in-range",
            "metadata": {},
            "outputs": [
                {
                    "name": "stdout",
                    "output_type": "stream",
                    "text": [
                        "Running 5 test cases for in_range\n",
                        "=====================================\n",
                        "Case 1: [5, 0, 10] -> True\n",
                        "Case 2: [-1, 0, 100] -> False\n",
                        "Case 3: [50, 50, 50] -> True\n",
                        "Case 4: [25, 0, 20] -> False\n",
                        "Case 5: [3.14, 3, 4] -> True\n"
                    ]
                }
            ],
            "source": [
                "def in_range(number, min_val, max_val):\n",
                "    \"\"\"Check if number is in range [min_val, max_val].\n",
                "    Args:\n",
                "        number (float): Number to check\n",
                "        min_val (float): Minimum value\n",
                "        max_val (float): Maximum value\n",
                "    Returns:\n",
                "        bool: True if in range, False otherwise\n",
                "    \"\"\"\n",
                "    return min_val <= number <= max_val\n",
                "\n",
                "test_cases = [\n",
                "    [5, 0, 10],       # -> True\n",
                "    [-1, 0, 100],     # -> False\n",
                "    [50, 50, 50],     # -> True\n",
                "    [25, 0, 20],      # -> False\n",
                "    [3.14, 3, 4]      # -> True\n",
                "]\n",
                "\n",
                "# Excel usage: =IN_RANGE(5, 0, 10)\n",
                "\n",
                "run_tests(in_range, test_cases)"
            ]
        },
        {
            "cell_type": "code",
            "execution_count": 5,
            "id": "to-power",
            "metadata": {},
            "outputs": [
                {
                    "name": "stdout",
                    "output_type": "stream",
                    "text": [
                        "Running 5 test cases for to_power\n",
                        "=====================================\n",
                        "Case 1: [2, 3, 0] -> 8\n",
                        "Case 2: [5, 2, 1] -> 25\n",
                        "Case 3: [3, 0.5, 2] -> 1.73\n",
                        "Case 4: [10, -1, 3] -> 0.1\n",
                        "Case 5: [2.5, 2, 2] -> 6.25\n"
                    ]
                }
            ],
            "source": [
                "def to_power(base, exponent, round_to):\n",
                "    \"\"\"Calculate power with rounding.\n",
                "    Args:\n",
                "        base (float): Base number\n",
                "        exponent (float): Exponent\n",
                "        round_to (int): Decimal places to round to\n",
                "    Returns:\n",
                "        float: Result rounded to specified decimals\n",
                "    \"\"\"\n",
                "    return round(base ** exponent, round_to)\n",
                "\n",
                "test_cases = [\n",
                "    [2, 3, 0],        # -> 8\n",
                "    [5, 2, 1],        # -> 25.0\n",
                "    [3, 0.5, 2],      # -> 1.73\n",
                "    [10, -1, 3],      # -> 0.100\n",
                "    [2.5, 2, 2]       # -> 6.25\n",
                "]\n",
                "\n",
                "# Excel usage: =TO_POWER(2, 3, 0)\n",
                "\n",
                "run_tests(to_power, test_cases)"
            ]
        },
        {
            "cell_type": "code",
            "execution_count": 6,
            "id": "add-two-days",
            "metadata": {},
            "outputs": [
                {
                    "name": "stdout",
                    "output_type": "stream",
                    "text": [
                        "Running 4 test cases for add_two_days\n",
                        "=====================================\n",
                        "Case 1: [43831] -> 2020-01-03\n",
                        "Case 2: [44561] -> 2022-01-02\n",
                        "Case 3: ['2024-06-15'] -> 2024-06-17\n",
                        "Case 4: ['2025-01-01'] -> 2025-01-03\n"
                    ]
                }
            ],
            "source": [
                "def add_two_days(date_input):\n",
                "    \"\"\"Add two days to the given date.\n",
                "    Args:\n",
                "        date_input (str or int): Date in 'YYYY-MM-DD' format or Excel serial date\n",
                "    Returns:\n",
                "        str: New date in 'YYYY-MM-DD' format\n",
                "    \"\"\"\n",
                "    from datetime import datetime, timedelta\n",
                "    \n",
                "    if isinstance(date_input, int):\n",
                "        # Excel serial date to datetime conversion\n",
                "        date = datetime(1899, 12, 30) + timedelta(days=date_input)\n",
                "    else:\n",
                "        date = datetime.strptime(date_input, '%Y-%m-%d')\n",
                "    \n",
                "    new_date = date + timedelta(days=2)\n",
                "    return new_date.strftime('%Y-%m-%d')\n",
                "\n",
                "test_cases = [\n",
                "    [43831],\n",
                "    [44561],\n",
                "    ['2024-06-15'],\n",
                "    ['2025-01-01']\n",
                "]\n",
                "\n",
                "# Excel usage: =ADD_TWO_DAYS(43831)\n",
                "\n",
                "run_tests(add_two_days, test_cases)"
            ]
        }
    ],
    "metadata": {
        "boardflare": {
            "author": "Boardflare",
            "description": "Simple examples to get started with.",
            "tags": [
                "simple"
            ],
            "title": "Simple Examples"
        },
        "kernelspec": {
            "display_name": "venv",
            "language": "python",
            "name": "python3"
        },
        "language_info": {
            "codemirror_mode": {
                "name": "ipython",
                "version": 3
            },
            "file_extension": ".py",
            "mimetype": "text/x-python",
            "name": "python",
            "nbconvert_exporter": "python",
            "pygments_lexer": "ipython3",
            "version": "3.12.6"
        }
    },
    "nbformat": 4,
    "nbformat_minor": 5
}
