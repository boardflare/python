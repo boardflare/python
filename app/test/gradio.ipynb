{
 "cells": [
  {
   "cell_type": "raw",
   "metadata": {
    "vscode": {
     "languageId": "raw"
    }
   },
   "source": [
    "textdistance\n",
    "numpy"
   ]
  },
  {
   "cell_type": "code",
   "execution_count": null,
   "metadata": {
    "tags": [
     "gradio"
    ]
   },
   "outputs": [],
   "source": [
    "# Gradio demo\n",
    "import gradio as gr\n",
    "import pandas as pd\n",
    "import textdistance\n",
    "\n",
    "# Updated fuzzy function\n",
    "def thefuzz_distance(needle, haystack_df, algorithm='jaccard'):\n",
    "    # Get the algorithm function from textdistance\n",
    "    algo_func = getattr(textdistance, algorithm)\n",
    "    # Flatten the DataFrame to a list\n",
    "    haystack = haystack_df.values.flatten().tolist()\n",
    "    \n",
    "    # Check if needle is a DataFrame\n",
    "    if isinstance(needle, pd.DataFrame):\n",
    "        needle_list = needle.values.flatten().tolist()\n",
    "    else:\n",
    "        needle_list = [needle]\n",
    "    \n",
    "    results = []\n",
    "    for needle_item in needle_list:\n",
    "        # Calculate similarity scores with normalization\n",
    "        scores = [(index, algo_func.normalized_similarity(needle_item, item)) for index, item in enumerate(haystack)]\n",
    "        # Sort based on scores in descending order\n",
    "        scores.sort(key=lambda x: x[1], reverse=True)\n",
    "        # Append the top index and score to results as a list\n",
    "        results.append(list(scores[0]))\n",
    "    \n",
    "    return results\n",
    "\n",
    "# List of algorithms to test\n",
    "algorithms = [\n",
    "    'jaccard', 'levenshtein', 'hamming', 'cosine', 'jaro', 'jaro_winkler', \n",
    "    'sorensen', 'ratcliff_obershelp', 'damerau_levenshtein', 'strcmp95', \n",
    "    'needleman_wunsch', 'smith_waterman', 'tversky', 'overlap', 'monge_elkan',\n",
    "    'lcsseq', 'lcsstr', 'gotoh', 'sorensen_dice', 'dice', 'bag', 'editex', \n",
    "    'mlipns', 'mra'\n",
    "]\n",
    "\n",
    "# Create the Gradio interface\n",
    "demo = gr.Interface(\n",
    "    fn=thefuzz_distance,\n",
    "    inputs=[\n",
    "        gr.Textbox(label=\"lookup_value\"),\n",
    "        gr.Dataframe(headers=[\"items\"], label=\"lookup_array\", type=\"pandas\"),  # Set type to pandas DataFrame\n",
    "        gr.Dropdown(choices=algorithms, label=\"algorithm\")\n",
    "    ],\n",
    "    outputs=gr.Dataframe(headers=[\"Index\", \"Score\"], label=\"Result\"),  # Change output to Dataframe\n",
    "    examples = [\n",
    "        [\"apple\", pd.DataFrame({\"items\": [\"apples\", \"apply\", \"ape\", \"grape\"]}), \"jaccard\"],\n",
    "        [\"cat\", pd.DataFrame({\"items\": [\"cats\", \"cut\", \"bat\", \"hat\"]}), \"levenshtein\"],\n",
    "        [\"hello\", pd.DataFrame({\"items\": [\"helloo\", \"helo\", \"hallo\", \"hey\"]}), \"cosine\"]\n",
    "    ]\n",
    ")\n",
    "\n",
    "# Launch the interface\n",
    "demo.launch(show_error=True)"
   ]
  }
 ],
 "metadata": {
  "kernelspec": {
   "display_name": "venv",
   "language": "python",
   "name": "python3"
  },
  "language_info": {
   "name": "python",
   "version": "3.12.6"
  }
 },
 "nbformat": 4,
 "nbformat_minor": 2
}
