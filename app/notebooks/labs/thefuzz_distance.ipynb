{
 "cells": [
  {
   "cell_type": "markdown",
   "metadata": {},
   "source": [
    "# `thefuzz_distance`\n",
    "\n",
    "## Overview\n",
    "Uses the Python [thefuzz](https://github.com/seatgeek/thefuzz) library which implements a high-performance levenshtein algorithm, 10-20x faster than other libraries.  This is ideal if you are dealing with very large datasets.\n",
    "\n",
    "| Task | Description | Boardflare RUNPY() | Excel PY() | Source Code | Demo Workbook |\n",
    "|:----:|:------------|:-------:|:----------:|:-------:|:-------:|\n",
    "| [Fuzzy Matching](https://www.boardflare.com/tasks/nlp/fuzzy-match) | Uses [thefuzz](https://github.com/seatgeek/thefuzz) library for higher performance `levenshtein`. | - | ✅ | [Download](https://functions.boardflare.com/notebooks/text/fuzzy-match/thefuzz_distance.ipynb) | [Open](https://whistlernetworks.sharepoint.com/:x:/s/Boardflare/Eb_nCI4mR6tImGx_S1hPVs8B4UYmrJRrkk0_Grai6A4adg?e=xfUuNQ) |\n",
    "\n",
    "## Usage\n",
    "\n",
    "### Excel PY\n",
    "\n",
    "Define the function in a cell at the beginning of your workbook by pasting the following code into a `PY` cell:\n",
    "\n",
    "You can then use the function in your workbook as many times as you need to with another `PY` cell that passes the arguments to the function:\n",
    "\n",
    "```python\n",
    "thefuzz_distance(xl(\"A1\"), xl(\"B1:B20\"), \"ratio\")\n",
    "```\n",
    "\n",
    "## Similarity Algorithms\n",
    "\n",
    "The `thefuzz` utilizes the `rapidfuzz` library which implements a high-performance version of the levenshtein algorithm, and returns this as a percentage similarity score, also known as a distance ratio, which ranges from 0 to 100.  We have divided this by 100 to get a similarity score between 0 and 1 in line with other algorithms.\n",
    "\n",
    "| Algorithm            | Description                                                                 |\n",
    "|----------------------|-----------------------------------------------------------------------------|\n",
    "| `ratio`              | Calculates the ratio between two strings.              |\n",
    "| `partial_ratio`      | Calculates the partial ratio between two strings.                           |\n",
    "| `token_sort_ratio`   | Calculates the ratio after sorting the tokens in the strings.               |\n",
    "| `token_set_ratio`    | Calculates the ratio after sorting and deduplicating the tokens in the strings. |"
   ]
  },
  {
   "cell_type": "code",
   "execution_count": 1,
   "metadata": {},
   "outputs": [],
   "source": [
    "import pandas as pd\n",
    "\n",
    "# Setup globals similar to RUNPY function.\n",
    "# Arrays must be in pandas DataFrame.\n",
    "arg1 = pd.DataFrame([\"sample\", \"exemplary\", \"sampler\", \"example\"], columns=['needles'])\n",
    "arg2 = pd.DataFrame([\"samples\", \"exemplar\", \"sample\", \"examples\"], columns=['haystack'])\n",
    "arg3 = 'ratio'"
   ]
  },
  {
   "cell_type": "code",
   "execution_count": 2,
   "metadata": {},
   "outputs": [
    {
     "data": {
      "text/plain": [
       "[[3, 1.0], [2, 0.94], [3, 0.92], [4, 0.93]]"
      ]
     },
     "execution_count": 2,
     "metadata": {},
     "output_type": "execute_result"
    }
   ],
   "source": [
    "from thefuzz import fuzz\n",
    "import pandas as pd\n",
    "\n",
    "def thefuzz_distance(needle, haystack_df, algorithm='ratio'):\n",
    "    # Flatten the DataFrame to a list\n",
    "    haystack = haystack_df.values.flatten().tolist()\n",
    "\n",
    "    # Check if needle is a DataFrame\n",
    "    if isinstance(needle, pd.DataFrame):\n",
    "        needle_list = needle.values.flatten().tolist()\n",
    "    else:\n",
    "        needle_list = [needle]\n",
    "\n",
    "    results = []\n",
    "    for needle_item in needle_list:\n",
    "        # Calculate similarity scores\n",
    "        if algorithm == 'ratio':\n",
    "            scores = [(index + 1, fuzz.ratio(needle_item, item) / 100) for index, item in enumerate(haystack)]\n",
    "        elif algorithm == 'partial_ratio':\n",
    "            scores = [(index + 1, fuzz.partial_ratio(needle_item, item) / 100) for index, item in enumerate(haystack)]\n",
    "        elif algorithm == 'token_sort_ratio':\n",
    "            scores = [(index + 1, fuzz.token_sort_ratio(needle_item, item) / 100) for index, item in enumerate(haystack)]\n",
    "        elif algorithm == 'token_set_ratio':\n",
    "            scores = [(index + 1, fuzz.token_set_ratio(needle_item, item) / 100) for index, item in enumerate(haystack)]\n",
    "        else:\n",
    "            raise ValueError(f\"Unknown algorithm: {algorithm}\")\n",
    "\n",
    "        # Sort based on scores in descending order\n",
    "        scores.sort(key=lambda x: x[1], reverse=True)\n",
    "        # Append the top index and score to results as a list\n",
    "        results.append(list(scores[0]))\n",
    "\n",
    "    # results is 2D list, e.g. [[1, 0.75], [2, 0.85]]\n",
    "    return results\n",
    "\n",
    "# Example usage\n",
    "thefuzz_distance(arg1, arg2, arg3)"
   ]
  }
 ],
 "metadata": {
  "kernelspec": {
   "display_name": "venv",
   "language": "python",
   "name": "python3"
  },
  "language_info": {
   "codemirror_mode": {
    "name": "ipython",
    "version": 3
   },
   "file_extension": ".py",
   "mimetype": "text/x-python",
   "name": "python",
   "nbconvert_exporter": "python",
   "pygments_lexer": "ipython3",
   "version": "3.12.6"
  }
 },
 "nbformat": 4,
 "nbformat_minor": 2
}
