{
 "cells": [
  {
   "cell_type": "markdown",
   "id": "a35eeb9f-df70-4ab1-a243-2d2025888eb0",
   "metadata": {},
   "source": [
    "# $\\boxed{x}$ Boardflare Python for Excel\n",
    "\n",
    "This is a Jupyter notebook, provided by the [JupyterLite project](https://jupyterlite.readthedocs.io/en/latest/), which enables you to edit and run Python code in your web browser. It uses the same [Pyodide](https://pyodide.org/en/stable/) Python runtime as the `BOARDFLARE.RUNPY` function in Excel, so any code that works here should work there🤞.\n",
    "\n",
    "Some example functions are provided below to get you started.  If you are new to using Jupyter, check our their [documentation](https://jupyterlab.readthedocs.io/en/latest/user/notebook.html)."
   ]
  },
  {
   "cell_type": "code",
   "execution_count": 1,
   "id": "78db95af",
   "metadata": {},
   "outputs": [],
   "source": [
    "# Set global variables as RUNPY does when passed scalar values.\n",
    "arg1 = 2\n",
    "arg2 = 3"
   ]
  },
  {
   "cell_type": "code",
   "execution_count": 2,
   "id": "4d2eb7c3",
   "metadata": {},
   "outputs": [
    {
     "data": {
      "text/plain": [
       "5"
      ]
     },
     "execution_count": 2,
     "metadata": {},
     "output_type": "execute_result"
    }
   ],
   "source": [
    "# Adds two numbers.\n",
    "def add_numbers(a, b):\n",
    "    return a + b\n",
    "\n",
    "add_numbers(arg1, arg2)"
   ]
  },
  {
   "cell_type": "code",
   "execution_count": 3,
   "id": "12e8c0f0",
   "metadata": {
    "tags": [
     "parameters"
    ]
   },
   "outputs": [],
   "source": [
    "# Set global variables as RUNPY does when passed array values.\n",
    "# Note the array will always be 2D, even if a single row or column.\n",
    "import pandas as pd\n",
    "arg1 = pd.DataFrame([[1, 2, 3]])\n",
    "arg2 = 3"
   ]
  },
  {
   "cell_type": "code",
   "execution_count": 5,
   "id": "b21eece7",
   "metadata": {},
   "outputs": [
    {
     "data": {
      "text/plain": [
       "[[4, 5, 6]]"
      ]
     },
     "execution_count": 5,
     "metadata": {},
     "output_type": "execute_result"
    }
   ],
   "source": [
    "# Converts arg1 to 2D list and add arg2 to each element\n",
    "def add_to_each_element(arg1, arg2):\n",
    "    return [[element + arg2 for element in row] for row in arg1.values.tolist()]\n",
    "\n",
    "add_to_each_element(arg1, arg2)"
   ]
  },
  {
   "cell_type": "markdown",
   "id": "654d8ba2",
   "metadata": {},
   "source": [
    "You can only import Python packages that are [built into Pyodide](https://pyodide.org/en/stable/usage/packages-in-pyodide.html), as well as any pure Python package on PyPI that only depend on other pure Python packages, or those that are built into Pyodide.  For example, let's import `numpy` to perform the same operation as above."
   ]
  },
  {
   "cell_type": "code",
   "execution_count": 11,
   "id": "463511da",
   "metadata": {},
   "outputs": [
    {
     "data": {
      "text/plain": [
       "[[4, 5, 6]]"
      ]
     },
     "execution_count": 11,
     "metadata": {},
     "output_type": "execute_result"
    }
   ],
   "source": [
    "# Uses numpy to add do the same operation as above.\n",
    "import numpy as np\n",
    "\n",
    "# Define function to add two numbers using numpy and call it.\n",
    "def add_numbers_np(a, b):\n",
    "    sum = np.add(a, b).values.tolist()\n",
    "    return sum\n",
    "\n",
    "add_numbers_np(arg1, arg2)"
   ]
  },
  {
   "cell_type": "code",
   "execution_count": null,
   "id": "139c1201",
   "metadata": {},
   "outputs": [],
   "source": [
    "# Function to convert inches to mm.\n",
    "def inches_to_mm(inches):\n",
    "    return inches * 25.4\n",
    "\n",
    "inches_to_mm(arg1)"
   ]
  }
 ],
 "metadata": {
  "kernelspec": {
   "display_name": "venv",
   "language": "python",
   "name": "python3"
  },
  "language_info": {
   "codemirror_mode": {
    "name": "ipython",
    "version": 3
   },
   "file_extension": ".py",
   "mimetype": "text/x-python",
   "name": "python",
   "nbconvert_exporter": "python",
   "pygments_lexer": "ipython3",
   "version": "3.12.6"
  }
 },
 "nbformat": 4,
 "nbformat_minor": 5
}
