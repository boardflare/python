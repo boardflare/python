{
 "cells": [
  {
   "cell_type": "markdown",
   "metadata": {},
   "source": [
    "This function only works in Excel `PY` as it requires `thefuzz` library which is not available in Pyodide.  The main reason to use it is that it has a levenshtein algorithm implementation that is roughly 15x faster than the one in the `nltk_distance` function."
   ]
  },
  {
   "cell_type": "code",
   "execution_count": 1,
   "metadata": {},
   "outputs": [],
   "source": [
    "import pandas as pd\n",
    "\n",
    "# Setup globals similar to RUNPY function.\n",
    "# Arrays must be in pandas DataFrame.\n",
    "arg1 = pd.DataFrame([\"sample\", \"exemplary\", \"sampler\", \"example\"], columns=['needles'])\n",
    "arg2 = pd.DataFrame([\"samples\", \"exemplar\", \"sample\", \"examples\"], columns=['haystack'])\n",
    "arg3 = 'ratio'"
   ]
  },
  {
   "cell_type": "code",
   "execution_count": 2,
   "metadata": {},
   "outputs": [
    {
     "data": {
      "text/plain": [
       "[[3, 1.0], [2, 0.94], [3, 0.92], [4, 0.93]]"
      ]
     },
     "execution_count": 2,
     "metadata": {},
     "output_type": "execute_result"
    }
   ],
   "source": [
    "from thefuzz import fuzz\n",
    "import pandas as pd\n",
    "\n",
    "def thefuzz_distance(needle, haystack_df, algorithm='ratio'):\n",
    "    # Flatten the DataFrame to a list\n",
    "    haystack = haystack_df.values.flatten().tolist()\n",
    "\n",
    "    # Check if needle is a DataFrame\n",
    "    if isinstance(needle, pd.DataFrame):\n",
    "        needle_list = needle.values.flatten().tolist()\n",
    "    else:\n",
    "        needle_list = [needle]\n",
    "\n",
    "    results = []\n",
    "    for needle_item in needle_list:\n",
    "        # Calculate similarity scores\n",
    "        if algorithm == 'ratio':\n",
    "            scores = [(index + 1, fuzz.ratio(needle_item, item) / 100) for index, item in enumerate(haystack)]\n",
    "        elif algorithm == 'partial_ratio':\n",
    "            scores = [(index + 1, fuzz.partial_ratio(needle_item, item) / 100) for index, item in enumerate(haystack)]\n",
    "        elif algorithm == 'token_sort_ratio':\n",
    "            scores = [(index + 1, fuzz.token_sort_ratio(needle_item, item) / 100) for index, item in enumerate(haystack)]\n",
    "        elif algorithm == 'token_set_ratio':\n",
    "            scores = [(index + 1, fuzz.token_set_ratio(needle_item, item) / 100) for index, item in enumerate(haystack)]\n",
    "        else:\n",
    "            raise ValueError(f\"Unknown algorithm: {algorithm}\")\n",
    "\n",
    "        # Sort based on scores in descending order\n",
    "        scores.sort(key=lambda x: x[1], reverse=True)\n",
    "        # Append the top index and score to results as a list\n",
    "        results.append(list(scores[0]))\n",
    "\n",
    "    # results is 2D list, e.g. [[1, 0.75], [2, 0.85]]\n",
    "    return results\n",
    "\n",
    "# Example usage\n",
    "thefuzz_distance(arg1, arg2, arg3)"
   ]
  }
 ],
 "metadata": {
  "kernelspec": {
   "display_name": "venv",
   "language": "python",
   "name": "python3"
  },
  "language_info": {
   "codemirror_mode": {
    "name": "ipython",
    "version": 3
   },
   "file_extension": ".py",
   "mimetype": "text/x-python",
   "name": "python",
   "nbconvert_exporter": "python",
   "pygments_lexer": "ipython3",
   "version": "3.12.6"
  }
 },
 "nbformat": 4,
 "nbformat_minor": 2
}
