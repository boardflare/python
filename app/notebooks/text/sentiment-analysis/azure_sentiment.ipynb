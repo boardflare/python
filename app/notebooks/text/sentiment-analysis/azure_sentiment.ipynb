{
 "cells": [
  {
   "cell_type": "markdown",
   "metadata": {
    "tags": [
     "description"
    ]
   },
   "source": [
    "# `azure_sentiment`\n",
    "\n",
    "## Overview\n",
    "Uses the [Azure AI Language](https://learn.microsoft.com/en-us/azure/ai-services/language-service/sentiment-opinion-mining/overview?tabs=prebuilt) service to analyze sentiment and opinions in the provided documents. It returns an array containing the sentiment analysis results with sentiment polarity at the document, sentence, and aspect levels. It also provides the opinions used at the aspect level.\n",
    "\n",
    "- General information on [Sentiment Analysis](https://www.boardflare.com/tasks/nlp/sentiment).\n",
    "- Function [Source Code](https://functions.boardflare.com/notebooks/text/sentiment-analysis/azure_sentiment.ipynb) in Jupyter Notebook format.\n",
    "- Excel [Demo Workbook](https://whistlernetworks.sharepoint.com/:x:/s/Boardflare/EdCeYAvBM19Dk56HGq4cHiAB8nYx6fONT5Qj9XQx1y9IKQ?e=bV5Ks6) with examples.\n",
    "\n",
    "## Usage\n",
    "\n",
    "```excel\n",
    "=BOARDFLARE.RUNPY(\"text/sentiment-analysis/azure_sentiment.ipynb\", documents, azureai_key, azureai_url)\n",
    "```\n",
    "\n",
    "Arguments:\n",
    "\n",
    "| Argument      | Positional | Type           | Description                                                                 |\n",
    "|---------------|------------|----------------|-----------------------------------------------------------------------------|\n",
    "| `documents`   | arg1       | string or list | The text documents to analyze. Can be a single string or a pandas DataFrame.|\n",
    "| `azureai_key` | arg2       | string         | The Azure AI API key. e.g. 7920c673894d49d292de11a80d16572                  |\n",
    "| `azureai_url` | arg3       | string         | The Azure AI API endpoint (e.g. https://boardflare-free.cognitiveservices.azure.com/)       |\n",
    "\n",
    "Returns a list of lists containing the sentiment analysis results. Each inner list contains:\n",
    "\n",
    "| Return Value     | Type  | Description                                                                                  |\n",
    "|------------------|-------|----------------------------------------------------------------------------------------------|\n",
    "| DocIndex         | int   | Document index (1-based).                                                                    |\n",
    "| DSent            | string| Document sentiment.                                                                          |\n",
    "| DPos             | float | Document confidence score (positive).                                                        |\n",
    "| DNeu             | float | Document confidence score (neutral).                                                         |\n",
    "| DNeg             | float | Document confidence score (negative).                                                        |\n",
    "| Sentence         | string| Sentence text.                                                                               |\n",
    "| SSent            | string| Sentence sentiment.                                                                          |\n",
    "| SPos             | float | Sentence confidence score (positive).                                                        |\n",
    "| SNeu             | float | Sentence confidence score (neutral).                                                         |\n",
    "| SNeg             | float | Sentence confidence score (negative).                                                       |\n",
    "| Aspect           | string| Target text.                                                                                 |\n",
    "| ASent            | string| Target sentiment.                                                                            |\n",
    "| APos             | float | Target confidence score (positive).                                                          |\n",
    "| ANeg             | float | Target confidence score (negative).                                                          |\n",
    "| Opinion          | string| Assessment text.                                                                             |\n",
    "| OSent            | string| Assessment sentiment.                                                                        |\n",
    "| OPos             | float | Assessment confidence score (positive).                                                      |\n",
    "| ONeg             | float | Assessment confidence score (negative).                                                      |\n",
    "\n",
    "## Lambda\n",
    "\n",
    "You could wrap this in a user-friendly Excel named LAMBDA as follows:\n",
    "\n",
    "```excel\n",
    "=LAMBDA(documents,\n",
    "    BOARDFLARE.RUNPY(\"text/sentiment-analysis/azure_sentiment.ipynb\", documents, \"your_azureai_key\", \"your_azureai_url\")\n",
    ")\n",
    "```\n",
    "Then call it as a named function:\n",
    "\n",
    "```excel\n",
    "=AZURE.SENTIMENT(A1:A10)\n",
    "```\n",
    "\n",
    "## Analysis Results\n",
    "\n",
    "Sentiment labels (e.g. positive) are returned at the document, sentence, and aspect level, with a confidence score for each.  The labels are positive, negative, and neutral. At the document level, the mixed sentiment label also can be returned. The sentiment of the document is determined below:\n",
    "\n",
    "| Sentence sentiment | Returned document label |\n",
    "|--------------------|-------------------------|\n",
    "| At least one `positive` sentence is in the document. The rest of the sentences are `neutral`. | `positive` |\n",
    "| At least one `negative` sentence is in the document. The rest of the sentences are `neutral`. | `negative` |\n",
    "| At least one `negative` sentence and at least one `positive` sentence are in the document. | `mixed` |\n",
    "| All sentences in the document are `neutral`. | `neutral` |\n",
    "\n",
    "Confidence scores range from 1 to 0. Scores closer to 1 indicate a higher confidence in the label's classification, while lower scores indicate lower confidence. For each document or each sentence, the predicted scores associated with the labels (positive, negative, and neutral) add up to 1. For more information, see the Responsible AI transparency note.\n",
    "\n",
    "Each aspect and the corresponding opinion are extracted, also known as Aspect-based Sentiment Analysis, which provides more granular information about the opinions related to attributes of products or services in text. The API surfaces opinions as a target (noun or verb) and an assessment (adjective).\n",
    "\n",
    "For example, if a customer leaves feedback about a hotel such as \"The room was great, but the staff was unfriendly.\", the following results will be returned as outlined in the table below:\n",
    "\n",
    "| DocIndex | DSent   | DPos | DNeu | DNeg | Sentence                                      | SSent    | SPos | SNeu | SNeg | Aspect | ASent    | APos | ANeg | Opinion    | OSent    | OPos | ONeg |\n",
    "|----------|---------|------|------|------|-----------------------------------------------|----------|------|------|------|--------|----------|------|------|------------|----------|------|------|\n",
    "| 1        | negative| 0    | 0    | 1    | The room was great, but the staff was unfriendly. | negative | 0    | 0    | 1    | room   | positive | 1    | 0    | great      | positive | 1    | 0    |\n",
    "| 1        | negative| 0    | 0    | 1    | The room was great, but the staff was unfriendly. | negative | 0    | 0    | 1    | staff  | negative | 0    | 1    | unfriendly | negative | 0    | 1    |\n",
    "\n",
    "Notes:\n",
    "- Document has \"negative\" sentiment\n",
    "- First sentence about the room is positive with high confidence\n",
    "- Second sentence about staff is negative with high confidence\n",
    "- Aspect-level analysis correctly identifies \"room\" and \"staff\" as targets\n",
    "- Associated opinions \"great\" and \"unfriendly\" are correctly matched to their aspects\n",
    "\n",
    "![](https://learn.microsoft.com/en-us/azure/ai-services/language-service/sentiment-opinion-mining/media/opinion-mining.png)\n"
   ]
  },
  {
   "cell_type": "code",
   "execution_count": null,
   "metadata": {},
   "outputs": [],
   "source": [
    "%pip install micropip\n",
    "import micropip\n",
    "import pandas as pd\n",
    "import json"
   ]
  },
  {
   "cell_type": "code",
   "execution_count": 6,
   "metadata": {
    "tags": [
     "parameters"
    ]
   },
   "outputs": [
    {
     "data": {
      "text/plain": [
       "'{\"arg1\": [[\"The food and service were unacceptable. The concierge was nice, however.\"], [\"The rooms were clean and well maintained.\"], [\"The location is perfect but the staff was rude.\"]], \"arg2\": \"EheclBIlALVTiuDbYlS6zWzh7qi29VAezaQqZCtwa5vJYsL15IbiJQQJ99AKACYeBjFXJ3w3AAAaACOGZ9Zm\", \"arg3\": \"https://boardflare-free.cognitiveservices.azure.com/\"}'"
      ]
     },
     "execution_count": 6,
     "metadata": {},
     "output_type": "execute_result"
    }
   ],
   "source": [
    "# Documents to analyze (column array)\n",
    "arg1 = pd.DataFrame([\n",
    "    \"The food and service were unacceptable. The concierge was nice, however.\",\n",
    "    \"The rooms were clean and well maintained.\",\n",
    "    \"The location is perfect but the staff was rude.\",\n",
    "])\n",
    "# API key\n",
    "arg2 = 'EheclBIlALVTiuDbYlS6zWzh7qi29VAezaQqZCtwa5vJYsL15IbiJQQJ99AKACYeBjFXJ3w3AAAaACOGZ9Zm'\n",
    "# Endpoint\n",
    "arg3 = 'https://boardflare-free.cognitiveservices.azure.com/'\n",
    "\n",
    "# Serialize the arguments for loading into the demo workbook\n",
    "args = {\n",
    "    \"arg1\": arg1.values.tolist(),\n",
    "    \"arg2\": arg2,\n",
    "    \"arg3\": arg3,\n",
    "}\n",
    "json.dumps(args)"
   ]
  },
  {
   "cell_type": "code",
   "execution_count": null,
   "metadata": {
    "tags": [
     "function"
    ]
   },
   "outputs": [],
   "source": [
    "await micropip.install([\"azure-ai-textanalytics\"])\n",
    "from azure.ai.textanalytics import TextAnalyticsClient\n",
    "from azure.core.credentials import AzureKeyCredential\n",
    "\n",
    "# Example method for detecting sentiment and opinions in text \n",
    "def azure_sentiment(documents, language_key, language_endpoint):\n",
    "    \"\"\"\n",
    "    Analyzes sentiment and opinions in the provided documents using Azure Text Analytics.\n",
    "\n",
    "    Parameters:\n",
    "    documents (str or DataFrame): The text documents to analyze. Can be a single string or a pandas DataFrame.\n",
    "    language_key (str): The Azure Text Analytics API key.\n",
    "    language_endpoint (str): The Azure Text Analytics API endpoint.\n",
    "\n",
    "    Returns:\n",
    "    list: A list of lists containing the sentiment analysis results. Each inner list contains:\n",
    "        - Document index (1-based)\n",
    "        - Document sentiment\n",
    "        - Document confidence scores (positive, neutral, negative)\n",
    "        - Sentence text\n",
    "        - Sentence sentiment\n",
    "        - Sentence confidence scores (positive, neutral, negative)\n",
    "        - Target text\n",
    "        - Target sentiment\n",
    "        - Target confidence scores (positive, negative)\n",
    "        - Assessment text\n",
    "        - Assessment sentiment\n",
    "        - Assessment confidence scores (positive, negative)\n",
    "    \"\"\"\n",
    "    # Check if documents is a string, list, or DataFrame\n",
    "    if isinstance(documents, str):\n",
    "        documents = [documents]\n",
    "    elif isinstance(documents, pd.DataFrame):\n",
    "        documents = documents.values.flatten().tolist()  # Convert df to list\n",
    "\n",
    "    # Authenticate the client using your key and endpoint \n",
    "    ta_credential = AzureKeyCredential(language_key)\n",
    "    client = TextAnalyticsClient(\n",
    "            endpoint=language_endpoint, \n",
    "            credential=ta_credential)\n",
    "\n",
    "    result = client.analyze_sentiment(documents, show_opinion_mining=True)\n",
    "    doc_result = [doc for doc in result if not doc.is_error]\n",
    "\n",
    "    data = []\n",
    "\n",
    "    for idx, document in enumerate(doc_result):\n",
    "        for sentence in document.sentences:\n",
    "            for mined_opinion in sentence.mined_opinions:\n",
    "                target = mined_opinion.target\n",
    "                for assessment in mined_opinion.assessments:\n",
    "                    data.append([\n",
    "                        idx + 1,  # 1-based index\n",
    "                        document.sentiment,\n",
    "                        document.confidence_scores.positive,\n",
    "                        document.confidence_scores.neutral,\n",
    "                        document.confidence_scores.negative,\n",
    "                        sentence.text,\n",
    "                        sentence.sentiment,\n",
    "                        sentence.confidence_scores.positive,\n",
    "                        sentence.confidence_scores.neutral,\n",
    "                        sentence.confidence_scores.negative,\n",
    "                        target.text,\n",
    "                        target.sentiment,\n",
    "                        target.confidence_scores.positive,\n",
    "                        target.confidence_scores.negative,\n",
    "                        assessment.text,\n",
    "                        assessment.sentiment,\n",
    "                        assessment.confidence_scores.positive,\n",
    "                        assessment.confidence_scores.negative\n",
    "                    ])\n",
    "    return data\n",
    "\n",
    "azure_sentiment(arg1, arg2, arg3)"
   ]
  },
  {
   "cell_type": "code",
   "execution_count": 7,
   "metadata": {
    "tags": [
     "headers"
    ]
   },
   "outputs": [
    {
     "data": {
      "text/plain": [
       "'[\"documents\", \"azureai_key\", \"azureai_url\", \"DocIndex\", \"DSent\", \"DPos\", \"DNeu\", \"DNeg\", \"Sentence\", \"SSent\", \"SPos\", \"SNeu\", \"SNeg\", \"Aspect\", \"ASent\", \"APos\", \"ANeg\", \"Opinion\", \"OSent\", \"OPos\", \"ONeg\"]'"
      ]
     },
     "execution_count": 7,
     "metadata": {},
     "output_type": "execute_result"
    }
   ],
   "source": [
    "# Column headers to use in demo workbook.\n",
    "headers = [\"documents\", \"azureai_key\", \"azureai_url\", \"DocIndex\", \"DSent\", \"DPos\", \"DNeu\", \"DNeg\", \"Sentence\", \"SSent\", \"SPos\", \"SNeu\", \"SNeg\", \"Aspect\", \"ASent\", \"APos\", \"ANeg\", \"Opinion\", \"OSent\", \"OPos\", \"ONeg\"]\n",
    "json.dumps(headers)"
   ]
  }
 ],
 "metadata": {
  "kernelspec": {
   "display_name": "venv",
   "language": "python",
   "name": "python3"
  },
  "language_info": {
   "codemirror_mode": {
    "name": "ipython",
    "version": 3
   },
   "file_extension": ".py",
   "mimetype": "text/x-python",
   "name": "python",
   "nbconvert_exporter": "python",
   "pygments_lexer": "ipython3",
   "version": "3.12.6"
  }
 },
 "nbformat": 4,
 "nbformat_minor": 2
}
