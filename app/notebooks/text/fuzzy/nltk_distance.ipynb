{
 "cells": [
  {
   "cell_type": "code",
   "execution_count": 1,
   "metadata": {
    "tags": [
     "parameters"
    ]
   },
   "outputs": [
    {
     "data": {
      "text/html": [
       "<div>\n",
       "<style scoped>\n",
       "    .dataframe tbody tr th:only-of-type {\n",
       "        vertical-align: middle;\n",
       "    }\n",
       "\n",
       "    .dataframe tbody tr th {\n",
       "        vertical-align: top;\n",
       "    }\n",
       "\n",
       "    .dataframe thead th {\n",
       "        text-align: right;\n",
       "    }\n",
       "</style>\n",
       "<table border=\"1\" class=\"dataframe\">\n",
       "  <thead>\n",
       "    <tr style=\"text-align: right;\">\n",
       "      <th></th>\n",
       "      <th>needles</th>\n",
       "    </tr>\n",
       "  </thead>\n",
       "  <tbody>\n",
       "    <tr>\n",
       "      <th>0</th>\n",
       "      <td>sample</td>\n",
       "    </tr>\n",
       "    <tr>\n",
       "      <th>1</th>\n",
       "      <td>exemplary</td>\n",
       "    </tr>\n",
       "    <tr>\n",
       "      <th>2</th>\n",
       "      <td>sampler</td>\n",
       "    </tr>\n",
       "    <tr>\n",
       "      <th>3</th>\n",
       "      <td>example</td>\n",
       "    </tr>\n",
       "  </tbody>\n",
       "</table>\n",
       "</div>"
      ],
      "text/plain": [
       "     needles\n",
       "0     sample\n",
       "1  exemplary\n",
       "2    sampler\n",
       "3    example"
      ]
     },
     "execution_count": 1,
     "metadata": {},
     "output_type": "execute_result"
    }
   ],
   "source": [
    "import pandas as pd\n",
    "\n",
    "# Setup globals similar to RUNPY function.\n",
    "# Arrays must be in pandas DataFrame.\n",
    "arg1 = pd.DataFrame([\"sample\", \"exemplary\", \"sampler\", \"example\"], columns=['needles'])\n",
    "arg2 = pd.DataFrame([\"samples\", \"exemplar\", \"sample\", \"examples\"], columns=['haystack'])\n",
    "arg3 = 'jaccard'\n",
    "\n",
    "arg1"
   ]
  },
  {
   "cell_type": "code",
   "execution_count": 2,
   "metadata": {
    "tags": [
     "function"
    ]
   },
   "outputs": [
    {
     "data": {
      "text/plain": [
       "[[3, 1.0], [2, 0.88], [3, 0.83], [4, 0.86]]"
      ]
     },
     "execution_count": 2,
     "metadata": {},
     "output_type": "execute_result"
    }
   ],
   "source": [
    "import pandas as pd\n",
    "import nltk\n",
    "from nltk.metrics.distance import edit_distance, jaccard_distance, jaro_similarity\n",
    "from nltk.util import ngrams\n",
    "\n",
    "def nltk_distance(needle, haystack_df, algorithm='jaccard'):\n",
    "    \"\"\"\n",
    "    Calculate the similarity between a needle and a haystack using various distance algorithms.\n",
    "\n",
    "    Parameters:\n",
    "    needle (str or pd.DataFrame): The string or DataFrame to search for.\n",
    "    haystack_df (pd.DataFrame): The DataFrame to search within.\n",
    "    algorithm (str): The algorithm to use for calculating similarity. Options are 'levenshtein', 'jaccard', and 'jaro'. Default is 'jaccard'.\n",
    "\n",
    "    Returns:\n",
    "    list: A list of lists where each sublist contains the index (1-based) and the similarity score of the most similar item in the haystack.\n",
    "    \"\"\"\n",
    "    # Define a dictionary to map algorithm names to functions\n",
    "    algo_funcs = {\n",
    "        'levenshtein': lambda x, y: 1 - edit_distance(x, y) / max(len(x), len(y)),\n",
    "        'jaccard': lambda x, y: 1 - jaccard_distance(set(ngrams(x, 2)), set(ngrams(y, 2))),\n",
    "        'jaro': jaro_similarity\n",
    "    }\n",
    "    \n",
    "    # Get the algorithm function from the dictionary\n",
    "    algo_func = algo_funcs.get(algorithm)\n",
    "    if algo_func is None:\n",
    "        raise ValueError(f\"Unsupported algorithm: {algorithm}\")\n",
    "    \n",
    "    # Flatten the DataFrame to a list\n",
    "    haystack = haystack_df.values.flatten().tolist()\n",
    "    \n",
    "    # Check if needle is a DataFrame\n",
    "    if isinstance(needle, pd.DataFrame):\n",
    "        needle_list = needle.values.flatten().tolist()\n",
    "    else:\n",
    "        needle_list = [needle]\n",
    "    \n",
    "    results = [] \n",
    "    for needle_item in needle_list:\n",
    "        # Calculate similarity scores and round to 2 decimal places\n",
    "        scores = [(index + 1, round(algo_func(needle_item, item), 2)) for index, item in enumerate(haystack)]\n",
    "        \n",
    "        # Sort based on scores in descending order\n",
    "        scores.sort(key=lambda x: x[1], reverse=True)\n",
    "        # Append the top index and score to results as a list\n",
    "        results.append(list(scores[0]))\n",
    "\n",
    "    # results is 2D list, e.g. [[1, 0.75], [2, 0.85]]\n",
    "    return results\n",
    "\n",
    "nltk_distance(arg1, arg2, arg3)"
   ]
  },
  {
   "cell_type": "code",
   "execution_count": 3,
   "metadata": {},
   "outputs": [
    {
     "data": {
      "text/plain": [
       "[['Algorithm', 'Closest Match', 'Score'],\n",
       " ['jaccard', 1, 0.83],\n",
       " ['levenshtein', 1, 0.86],\n",
       " ['jaro', 1, 0.95]]"
      ]
     },
     "execution_count": 3,
     "metadata": {},
     "output_type": "execute_result"
    }
   ],
   "source": [
    "# List of algorithms to test\n",
    "algorithms = ['jaccard', 'levenshtein', 'jaro']\n",
    "\n",
    "# Example needle and haystack DataFrame\n",
    "needle = \"sampler\"\n",
    "haystack_df = pd.DataFrame([\"sample\", \"example\", \"sampling\", \"test\"])\n",
    "\n",
    "# Calculate results for each algorithm\n",
    "results = [['Algorithm', 'Closest Match', 'Score']]\n",
    "for algo in algorithms:\n",
    "    match, score = nltk_distance(needle, haystack_df, algo)[0]\n",
    "    results.append([algo, match, float(score)])\n",
    "\n",
    "# Return results as a nested list with headers\n",
    "results"
   ]
  }
 ],
 "metadata": {
  "kernelspec": {
   "display_name": "venv",
   "language": "python",
   "name": "python3"
  },
  "language_info": {
   "codemirror_mode": {
    "name": "ipython",
    "version": 3
   },
   "file_extension": ".py",
   "mimetype": "text/x-python",
   "name": "python",
   "nbconvert_exporter": "python",
   "pygments_lexer": "ipython3",
   "version": "3.12.6"
  }
 },
 "nbformat": 4,
 "nbformat_minor": 2
}
