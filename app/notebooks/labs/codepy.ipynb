{
 "cells": [
  {
   "cell_type": "markdown",
   "metadata": {},
   "source": [
    "# CODEPY\n",
    "\n",
    "## Overview\n",
    "\n",
    "| Task | Description | Boardflare RUNPY() | Excel PY() | Source Code | Demo Workbook |\n",
    "|:----:|:------------|:-------:|:----------:|:-------:|:-------:|\n",
    "| Code Generation | Creates Python function from a description. | ✅ | - | [Download](https://functions.boardflare.com/notebooks/code/python/codepy.ipynb) | [Open](https://whistlernetworks.sharepoint.com/:x:/s/Boardflare/EREo6OZp9kNAj_fUcHZXJKcBe2-aG61R2fYiR2ZxzyEcKQ?e=FYXed3) |\n",
    "\n",
    "## Usage\n",
    "\n",
    "Takes a description of a Python function and generates the Python code by prompting an LLM. The description should be a string that starts with the function name and is similar to a docstring, but less formal.  e.g. `BUSINESS_DAY returns TRUE if a date is not a weekend or U.S. federal holiday.`\n",
    "\n",
    "```excel\n",
    "=BOARDFLARE.RUNPY(\"code/python/codepy.ipynb\", arg1)\n",
    "```\n",
    "\n",
    "Arguments:\n",
    "\n",
    "| Argument     | Positional | Type   | Description                                      |\n",
    "|--------------|------------|--------|--------------------------------------------------|\n",
    "| `description`| arg1       | string | Description of the Python function to create.    |\n",
    "\n",
    "Returns a data type with the following properties:\n",
    "\n",
    "| Property | Type   | Description                        |\n",
    "|----------|--------|------------------------------------|\n",
    "| Name     | string | Name of the function               |\n",
    "| Python   | string | Python code                        |\n",
    "\n",
    "## Lambda\n",
    "\n",
    "```excel\n",
    "=LAMBDA(description, BOARDFLARE.RUNPY(\"code/python/codepy.ipynb\", description))\n",
    "```"
   ]
  },
  {
   "cell_type": "code",
   "execution_count": 1,
   "metadata": {
    "tags": [
     "parameters"
    ]
   },
   "outputs": [
    {
     "data": {
      "text/plain": [
       "'{\"arg1\": \"BUSINESS_DAY returns TRUE if a date is not a weekend or U.S. federal holiday.\"}'"
      ]
     },
     "execution_count": 1,
     "metadata": {},
     "output_type": "execute_result"
    }
   ],
   "source": [
    "import pandas as pd\n",
    "import json\n",
    "\n",
    "# Setup globals similar to RUNPY function.\n",
    "# Arrays must be in pandas DataFrame.\n",
    "arg1 = \"BUSINESS_DAY returns TRUE if a date is not a weekend or U.S. federal holiday.\"\n",
    "\n",
    "# Serialize the arguments for loading into the demo workbook\n",
    "args = {\n",
    "    \"arg1\": arg1\n",
    "}\n",
    "json.dumps(args)"
   ]
  },
  {
   "cell_type": "code",
   "execution_count": 2,
   "metadata": {
    "tags": [
     "function"
    ]
   },
   "outputs": [
    {
     "name": "stderr",
     "output_type": "stream",
     "text": [
      "C:\\Users\\brent\\AppData\\Roaming\\Python\\Python312\\site-packages\\urllib3\\connectionpool.py:1099: InsecureRequestWarning: Unverified HTTPS request is being made to host 'localhost'. Adding certificate verification is strongly advised. See: https://urllib3.readthedocs.io/en/latest/advanced-usage.html#tls-warnings\n",
      "  warnings.warn(\n"
     ]
    },
    {
     "data": {
      "text/plain": [
       "\"That's correct. The BUSINESS_DAY function in Excel is a logical function that returns TRUE if a date is not a weekend (Saturday or Sunday) and is not a U.S. federal holiday. If the date is a weekend or a U.S. federal holiday, the function returns FALSE.\\n\\nHere's the syntax for the BUSINESS_DAY function:\\n\\n=BUSINESS_DAY(date, [days], [holidays])\\n\\n- date: The date you want to check.\\n- days: The number of business days to add to the date. If this argument is omitted, BUSINESS_DAY returns the date argument.\\n- holidays: A range of dates to consider as holidays. If this argument is omitted, no holidays are considered.\\n\\nFor example, if you want to check if January 1, 2022 is a business day, you can use the following formula:\\n\\n=BUSINESS_DAY(DATE(2022,1,1))\\n\\nIf January 1, 2022 is a weekend or a U.S. federal holiday, the function will return FALSE. Otherwise, it will return TRUE.\""
      ]
     },
     "execution_count": 2,
     "metadata": {},
     "output_type": "execute_result"
    }
   ],
   "source": [
    "import requests\n",
    "import json\n",
    "\n",
    "def codepy(prompt: str) -> str:\n",
    "    \"\"\"\n",
    "    Send prompt to codepy endpoint and return generated code\n",
    "    \n",
    "    Args:\n",
    "        prompt (str): The programming prompt to send to LLM\n",
    "        \n",
    "    Returns:\n",
    "        str: Generated code response\n",
    "    \"\"\"\n",
    "    endpoint = \"https://localhost:8787\"\n",
    "    \n",
    "    try:\n",
    "        # Prepare request payload\n",
    "        payload = {\n",
    "            \"prompt\": prompt\n",
    "        }\n",
    "        \n",
    "        # Make POST request to endpoint\n",
    "        response = requests.post(\n",
    "            endpoint,\n",
    "            json=payload,\n",
    "            verify=False  # For local development only\n",
    "        )\n",
    "        \n",
    "        # Check if request was successful\n",
    "        response.raise_for_status()\n",
    "        \n",
    "        # Parse response\n",
    "        result = response.json()\n",
    "        \n",
    "        # Extract code from response\n",
    "        return result.get(\"code\", \"\")\n",
    "        \n",
    "    except requests.exceptions.RequestException as e:\n",
    "        print(f\"Error calling codepy endpoint: {e}\")\n",
    "        return \"\"\n",
    "    except json.JSONDecodeError:\n",
    "        print(\"Error parsing response from endpoint\")\n",
    "        return \"\"\n",
    "    \n",
    "codepy(arg1)"
   ]
  }
 ],
 "metadata": {
  "kernelspec": {
   "display_name": "Python 3",
   "language": "python",
   "name": "python3"
  },
  "language_info": {
   "codemirror_mode": {
    "name": "ipython",
    "version": 3
   },
   "file_extension": ".py",
   "mimetype": "text/x-python",
   "name": "python",
   "nbconvert_exporter": "python",
   "pygments_lexer": "ipython3",
   "version": "3.12.6"
  }
 },
 "nbformat": 4,
 "nbformat_minor": 2
}
