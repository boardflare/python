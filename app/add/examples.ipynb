{
    "cells": [
        {
            "cell_type": "code",
            "execution_count": null,
            "metadata": {},
            "outputs": [],
            "source": [
                "def capitalize(s):\n",
                "    \"\"\" Capitalize the first letter of a string. \"\"\"\n",
                "    return s.capitalize()\n",
                "\n",
                "# Example data\n",
                "example = \"hello, world!\""
            ]
        },
        {
            "cell_type": "code",
            "execution_count": null,
            "metadata": {},
            "outputs": [],
            "source": [
                "import pandas as pd\n",
                "from pandas.tseries.holiday import USFederalHolidayCalendar\n",
                "from datetime import datetime\n",
                "\n",
                "def is_business_day(date):\n",
                "    \"\"\"\n",
                "    Check if a given date is a business day.\n",
                "    \n",
                "    Args:\n",
                "        date: datetime object or string in 'YYYY-MM-DD' format\n",
                "        \n",
                "    Returns:\n",
                "        bool: True if business day, False if weekend or holiday\n",
                "    \"\"\"\n",
                "    if isinstance(date, str):\n",
                "        try:\n",
                "            date = pd.to_datetime(date)\n",
                "        except ValueError:\n",
                "            raise ValueError(\"Invalid date format. Use 'YYYY-MM-DD'\")\n",
                "    \n",
                "    if not isinstance(date, (datetime, pd.Timestamp)):\n",
                "        raise TypeError(\"Date must be string or datetime object\")\n",
                "    \n",
                "    cal = USFederalHolidayCalendar()\n",
                "    holidays = cal.holidays(start=date.year, end=date.year)\n",
                "    \n",
                "    is_weekend = date.weekday() >= 5\n",
                "    is_holiday = date in holidays\n",
                "    \n",
                "    return not (is_weekend or is_holiday)\n",
                "\n",
                "# Example data\n",
                "example = \"2024-12-11\"\n",
                "print(is_business_day(example))\n"
            ]
        },
        {
            "cell_type": "code",
            "execution_count": 23,
            "metadata": {},
            "outputs": [
                {
                    "name": "stdout",
                    "output_type": "stream",
                    "text": [
                        "True\n"
                    ]
                }
            ],
            "source": [
                "import re\n",
                "\n",
                "def is_valid_email(email):\n",
                "    \"\"\"\n",
                "    Check if a given string is a valid email address.\n",
                "    \n",
                "    Args:\n",
                "        email: string to validate\n",
                "        \n",
                "    Returns:\n",
                "        bool: True if valid email, False otherwise\n",
                "    \"\"\"\n",
                "    if not isinstance(email, str):\n",
                "        raise TypeError(\"Email must be a string\")\n",
                "        \n",
                "    pattern = r'^[a-zA-Z0-9._%+-]+@[a-zA-Z0-9.-]+\\.[a-zA-Z]{2,}$'\n",
                "    return bool(re.match(pattern, email))\n",
                "\n",
                "# Example data\n",
                "example = \"user@example.com\"\n",
                "print(is_valid_email(example))"
            ]
        },
        {
            "cell_type": "code",
            "execution_count": 24,
            "metadata": {},
            "outputs": [
                {
                    "name": "stdout",
                    "output_type": "stream",
                    "text": [
                        "{'neg': 0.0, 'neu': 0.323, 'pos': 0.677, 'compound': 0.855}\n"
                    ]
                },
                {
                    "name": "stderr",
                    "output_type": "stream",
                    "text": [
                        "[nltk_data] Downloading package vader_lexicon to\n",
                        "[nltk_data]     C:\\Users\\brent\\AppData\\Roaming\\nltk_data...\n",
                        "[nltk_data]   Package vader_lexicon is already up-to-date!\n"
                    ]
                }
            ],
            "source": [
                "import nltk\n",
                "from nltk.sentiment import SentimentIntensityAnalyzer\n",
                "\n",
                "# Download the VADER lexicon if not already downloaded\n",
                "nltk.download('vader_lexicon')\n",
                "\n",
                "def analyze_sentiment(text):\n",
                "    \"\"\"\n",
                "    Analyze the sentiment of a given text.\n",
                "    \n",
                "    Args:\n",
                "        text (str): Text to analyze.\n",
                "    \n",
                "    Returns:\n",
                "        dict: Sentiment scores.\n",
                "    \"\"\"\n",
                "    sia = SentimentIntensityAnalyzer()\n",
                "    return sia.polarity_scores(text)\n",
                "\n",
                "# Test the function\n",
                "example = \"I love this product! It's absolutely fantastic.\"\n",
                "print(analyze_sentiment(example))"
            ]
        }
    ],
    "metadata": {
        "kernelspec": {
            "display_name": "Python 3",
            "language": "python",
            "name": "python3"
        },
        "language_info": {
            "codemirror_mode": {
                "name": "ipython",
                "version": 3
            },
            "file_extension": ".py",
            "mimetype": "text/x-python",
            "name": "python",
            "nbconvert_exporter": "python",
            "pygments_lexer": "ipython3",
            "version": "3.12.6"
        }
    },
    "nbformat": 4,
    "nbformat_minor": 2
}
