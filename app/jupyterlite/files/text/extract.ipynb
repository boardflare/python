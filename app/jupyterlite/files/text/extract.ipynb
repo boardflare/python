{
 "cells": [
  {
   "cell_type": "code",
   "execution_count": null,
   "metadata": {
    "vscode": {
     "languageId": "plaintext"
    }
   },
   "outputs": [],
   "source": [
    "import re\n",
    "\n",
    "data1 = \"\"\"\n",
    "Contact us at support3@example.com or sales@company.co.uk.\n",
    "For personal inquiries, reach out to john.doe@email.com.\n",
    "\"\"\"\n",
    "\n",
    "def extract_emails(text):\n",
    "    pattern = r'\\b[A-Za-z0-9._%+-]+@[A-Za-z0-9.-]+\\.[A-Z|a-z]{2,}\\b'\n",
    "    emails = re.findall(pattern, text)\n",
    "    return emails\n",
    "\n",
    "extracted_emails = extract_emails(data1)\n",
    "\n",
    "if extracted_emails:\n",
    "    pyout = extracted_emails[0]\n",
    "else:\n",
    "    pyout = \"no emails\"\n"
   ]
  }
 ],
 "metadata": {
  "language_info": {
   "name": "python"
  }
 },
 "nbformat": 4,
 "nbformat_minor": 2
}
