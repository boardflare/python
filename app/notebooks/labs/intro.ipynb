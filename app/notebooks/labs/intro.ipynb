{
 "cells": [
  {
   "cell_type": "markdown",
   "metadata": {},
   "source": [
    "This is a [Jupyter](https://jupyterlab.readthedocs.io/en/latest/user/notebook.html) notebook which enables you to edit and run Python code in your web browser using the same [Pyodide](https://pyodide.org/en/stable/) Python runtime as the `BOARDFLARE.RUNPY` function in Excel, so any code that works here should work there🤞.\n",
    "\n",
    "Below are some simple examples to get you started."
   ]
  },
  {
   "cell_type": "code",
   "execution_count": 1,
   "metadata": {},
   "outputs": [],
   "source": [
    "# Set global variables as RUNPY does when passed scalar values.\n",
    "arg1 = 2\n",
    "arg2 = 3"
   ]
  },
  {
   "cell_type": "code",
   "execution_count": 2,
   "metadata": {},
   "outputs": [
    {
     "data": {
      "text/plain": [
       "5"
      ]
     },
     "execution_count": 2,
     "metadata": {},
     "output_type": "execute_result"
    }
   ],
   "source": [
    "# Adds two numbers.\n",
    "def add_numbers(a, b):\n",
    "    return a + b\n",
    "\n",
    "add_numbers(arg1, arg2)"
   ]
  },
  {
   "cell_type": "code",
   "execution_count": 3,
   "metadata": {},
   "outputs": [],
   "source": [
    "# Set global variables as RUNPY does when passed array values.\n",
    "import pandas as pd\n",
    "arg1 = pd.DataFrame([[1, 2, 3]])\n",
    "arg2 = 3"
   ]
  },
  {
   "cell_type": "code",
   "execution_count": 4,
   "metadata": {},
   "outputs": [
    {
     "data": {
      "text/plain": [
       "[[4, 5, 6]]"
      ]
     },
     "execution_count": 4,
     "metadata": {},
     "output_type": "execute_result"
    }
   ],
   "source": [
    "# Converts arg1 to 2D list and add arg2 to each element\n",
    "def add_to_each_element(arg1, arg2):\n",
    "    return [[element + arg2 for element in row] for row in arg1.values.tolist()]\n",
    "\n",
    "add_to_each_element(arg1, arg2)"
   ]
  }
 ],
 "metadata": {
  "kernelspec": {
   "display_name": "venv",
   "language": "python",
   "name": "python3"
  },
  "language_info": {
   "codemirror_mode": {
    "name": "ipython",
    "version": 3
   },
   "file_extension": ".py",
   "mimetype": "text/x-python",
   "name": "python",
   "nbconvert_exporter": "python",
   "pygments_lexer": "ipython3",
   "version": "3.12.6"
  }
 },
 "nbformat": 4,
 "nbformat_minor": 2
}
