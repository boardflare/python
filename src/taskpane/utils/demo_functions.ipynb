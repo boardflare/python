{
    "cells": [
        {
            "cell_type": "code",
            "execution_count": 2,
            "id": "8384688e",
            "metadata": {},
            "outputs": [],
            "source": [
                "# Test runner\n",
                "\n",
                "def run_tests(func, test_cases):\n",
                "    \"\"\"\n",
                "    Function to run test_cases which must be in Gradio examples format\n",
                "    Args:\n",
                "        func: The function to test\n",
                "        test_cases: List of test_cases in same format as examples in gr.Interface\n",
                "    \"\"\"\n",
                "    if not test_cases:\n",
                "        raise ValueError(\"No test_cases provided\")\n",
                "    \n",
                "    if not isinstance(test_cases, list):\n",
                "        raise TypeError(\"test_cases should be provided as a list\")\n",
                "    \n",
                "    print(f\"Running {len(test_cases)} test cases for {func.__name__}\")\n",
                "    print(\"=====================================\")\n",
                "\n",
                "    for i, case in enumerate(test_cases):\n",
                "        if not isinstance(case, list):\n",
                "            raise TypeError(f\"Case {i+1} should be a list, even if it only has one argument, e.g. [3]\")\n",
                "            \n",
                "        try:\n",
                "            # Simply pass all inputs directly to the function\n",
                "            result = func(*case)\n",
                "            print(f\"Case {i+1}: {case} -> {result}\")\n",
                "        except Exception as e:\n",
                "            print(f\"Case {i+1} failed: {str(e)}\")"
            ]
        },
        {
            "cell_type": "code",
            "execution_count": 3,
            "id": "calculate-area",
            "metadata": {},
            "outputs": [
                {
                    "name": "stdout",
                    "output_type": "stream",
                    "text": [
                        "Running 5 test cases for calculate_area\n",
                        "=====================================\n",
                        "Case 1: [5, 4] -> 20\n",
                        "Case 2: [2.5, 4] -> 10.0\n",
                        "Case 3: [10, 10] -> 100\n",
                        "Case 4: [1, 1] -> 1\n",
                        "Case 5: [0.5, 2] -> 1.0\n"
                    ]
                }
            ],
            "source": [
                "def calculate_area(length, width):\n",
                "    \"\"\"Calculate area of rectangle.\n",
                "    Args:\n",
                "        length (float): Length of rectangle\n",
                "        width (float): Width of rectangle\n",
                "    Returns:\n",
                "        float: Area of rectangle\n",
                "    \"\"\"\n",
                "    return length * width\n",
                "\n",
                "test_cases = [\n",
                "    [5, 4],      # -> 20\n",
                "    [2.5, 4],    # -> 10\n",
                "    [10, 10],    # -> 100\n",
                "    [1, 1],      # -> 1\n",
                "    [0.5, 2]     # -> 1\n",
                "]\n",
                "\n",
                "# Excel usage: =CALCULATE_AREA(5, 4)\n",
                "\n",
                "run_tests(calculate_area, test_cases)"
            ]
        },
        {
            "cell_type": "code",
            "execution_count": 4,
            "id": "join-strings",
            "metadata": {},
            "outputs": [
                {
                    "name": "stdout",
                    "output_type": "stream",
                    "text": [
                        "Running 5 test cases for join_strings\n",
                        "=====================================\n",
                        "Case 1: ['hello', 'world', ' '] -> hello world\n",
                        "Case 2: ['first', 'last', '-'] -> first-last\n",
                        "Case 3: ['a', 'b', '_'] -> a_b\n",
                        "Case 4: ['python', 'code', '::'] -> python::code\n",
                        "Case 5: ['x', 'y', ''] -> xy\n"
                    ]
                }
            ],
            "source": [
                "def join_strings(first_str, second_str, separator):\n",
                "    \"\"\"Join two strings with a separator.\n",
                "    Args:\n",
                "        first_str (str): First string\n",
                "        second_str (str): Second string\n",
                "        separator (str): Separator between strings\n",
                "    Returns:\n",
                "        str: Joined string\n",
                "    \"\"\"\n",
                "    return f\"{first_str}{separator}{second_str}\"\n",
                "\n",
                "test_cases = [\n",
                "    [\"hello\", \"world\", \" \"],      # -> \"hello world\"\n",
                "    [\"first\", \"last\", \"-\"],       # -> \"first-last\"\n",
                "    [\"a\", \"b\", \"_\"],             # -> \"a_b\"\n",
                "    [\"python\", \"code\", \"::\"],     # -> \"python::code\"\n",
                "    [\"x\", \"y\", \"\"]               # -> \"xy\"\n",
                "]\n",
                "\n",
                "# Excel usage: =JOIN_STRINGS(\"hello\", \"world\", \" \")\n",
                "\n",
                "run_tests(join_strings, test_cases)"
            ]
        },
        {
            "cell_type": "code",
            "execution_count": 5,
            "id": "in-range",
            "metadata": {},
            "outputs": [
                {
                    "name": "stdout",
                    "output_type": "stream",
                    "text": [
                        "Running 5 test cases for in_range\n",
                        "=====================================\n",
                        "Case 1: [5, 0, 10] -> True\n",
                        "Case 2: [-1, 0, 100] -> False\n",
                        "Case 3: [50, 50, 50] -> True\n",
                        "Case 4: [25, 0, 20] -> False\n",
                        "Case 5: [3.14, 3, 4] -> True\n"
                    ]
                }
            ],
            "source": [
                "def in_range(number, min_val, max_val):\n",
                "    \"\"\"Check if number is in range [min_val, max_val].\n",
                "    Args:\n",
                "        number (float): Number to check\n",
                "        min_val (float): Minimum value\n",
                "        max_val (float): Maximum value\n",
                "    Returns:\n",
                "        bool: True if in range, False otherwise\n",
                "    \"\"\"\n",
                "    return min_val <= number <= max_val\n",
                "\n",
                "test_cases = [\n",
                "    [5, 0, 10],       # -> True\n",
                "    [-1, 0, 100],     # -> False\n",
                "    [50, 50, 50],     # -> True\n",
                "    [25, 0, 20],      # -> False\n",
                "    [3.14, 3, 4]      # -> True\n",
                "]\n",
                "\n",
                "# Excel usage: =IN_RANGE(5, 0, 10)\n",
                "\n",
                "run_tests(in_range, test_cases)"
            ]
        },
        {
            "cell_type": "code",
            "execution_count": 6,
            "id": "to-power",
            "metadata": {},
            "outputs": [
                {
                    "name": "stdout",
                    "output_type": "stream",
                    "text": [
                        "Running 5 test cases for to_power\n",
                        "=====================================\n",
                        "Case 1: [2, 3, 0] -> 8\n",
                        "Case 2: [5, 2, 1] -> 25\n",
                        "Case 3: [3, 0.5, 2] -> 1.73\n",
                        "Case 4: [10, -1, 3] -> 0.1\n",
                        "Case 5: [2.5, 2, 2] -> 6.25\n"
                    ]
                }
            ],
            "source": [
                "def to_power(base, exponent, round_to):\n",
                "    \"\"\"Calculate power with rounding.\n",
                "    Args:\n",
                "        base (float): Base number\n",
                "        exponent (float): Exponent\n",
                "        round_to (int): Decimal places to round to\n",
                "    Returns:\n",
                "        float: Result rounded to specified decimals\n",
                "    \"\"\"\n",
                "    return round(base ** exponent, round_to)\n",
                "\n",
                "test_cases = [\n",
                "    [2, 3, 0],        # -> 8\n",
                "    [5, 2, 1],        # -> 25.0\n",
                "    [3, 0.5, 2],      # -> 1.73\n",
                "    [10, -1, 3],      # -> 0.100\n",
                "    [2.5, 2, 2]       # -> 6.25\n",
                "]\n",
                "\n",
                "# Excel usage: =TO_POWER(2, 3, 0)\n",
                "\n",
                "run_tests(to_power, test_cases)"
            ]
        },
        {
            "cell_type": "code",
            "execution_count": null,
            "id": "add-two-days",
            "metadata": {},
            "outputs": [
                {
                    "name": "stdout",
                    "output_type": "stream",
                    "text": [
                        "Running 5 test cases for usfederal_business_days\n",
                        "=====================================\n",
                        "Case 1: [43831, 43861] -> 21\n",
                        "Case 2: [44561, 44592] -> 20\n",
                        "Case 3: [43831, 43838] -> 5\n",
                        "Case 4: [44561, 44561] -> 0\n",
                        "Case 5: [45291, 45322] -> 21\n"
                    ]
                }
            ],
            "source": [
                "def usfederal_business_days(start_date, end_date):\n",
                "    \"\"\"Business days between two dates, excluding weekends and US federal holidays.\n",
                "    \n",
                "    Args:\n",
                "        start_date (int): Start date in Excel serial date format\n",
                "        end_date (int): End date in Excel serial date format\n",
                "        \n",
                "    Returns:\n",
                "        int: Number of business days between the dates, excluding weekends and holidays\n",
                "    \"\"\"\n",
                "    import pandas as pd\n",
                "    from datetime import datetime, timedelta\n",
                "    from pandas.tseries.holiday import USFederalHolidayCalendar\n",
                "    from pandas.tseries.offsets import CustomBusinessDay\n",
                "    \n",
                "    # Convert Excel serial dates to datetime\n",
                "    excel_start = datetime(1899, 12, 30) + timedelta(days=start_date)\n",
                "    excel_end = datetime(1899, 12, 30) + timedelta(days=end_date)\n",
                "    \n",
                "    # Convert to pandas Timestamp objects\n",
                "    pd_start = pd.Timestamp(excel_start)\n",
                "    pd_end = pd.Timestamp(excel_end)\n",
                "    \n",
                "    # Create US federal holiday calendar\n",
                "    cal = USFederalHolidayCalendar()\n",
                "    holidays = cal.holidays(start=pd_start, end=pd_end)\n",
                "    # Convert the holidays DatetimeIndex to a list to avoid ambiguity\n",
                "    holidays = holidays.tolist()\n",
                "    \n",
                "    # Use CustomBusinessDay with the fetched holidays\n",
                "    cbd = CustomBusinessDay(holidays=holidays)\n",
                "    # Calculate business days excluding holidays using date_range with the custom frequency\n",
                "    bdays = pd.date_range(start=pd_start, end=pd_end, freq=cbd)\n",
                "    \n",
                "    return len(bdays)\n",
                "\n",
                "# Test cases for the new function remain the same\n",
                "test_cases = [\n",
                "    [43831, 43861],  # About a month apart\n",
                "    [44561, 44592],  # Another month span\n",
                "    [43831, 43838],  # One week\n",
                "    [44561, 44561],  # Same day\n",
                "    [45291, 45322]   # December 2023 to January 2024 (includes holidays)\n",
                "]\n",
                "\n",
                "# Excel usage: =USFEDERAL_BUSINESS_DAYS(43831, 43861)\n",
                "run_tests(usfederal_business_days, test_cases)"
            ]
        },
        {
            "cell_type": "code",
            "execution_count": null,
            "id": "7e36bfd3",
            "metadata": {},
            "outputs": [
                {
                    "name": "stdout",
                    "output_type": "stream",
                    "text": [
                        "Running 5 test cases for business_days\n",
                        "=====================================\n",
                        "Case 1: [43831, 43861] -> 23\n",
                        "Case 2: [44561, 44592] -> 22\n",
                        "Case 3: [43831, 43838] -> 6\n",
                        "Case 4: [44561, 44561] -> 1\n",
                        "Case 5: [45291, 45322] -> 23\n"
                    ]
                }
            ],
            "source": [
                "def business_days(start_date, end_date):\n",
                "    \"\"\"Business days between two dates, excluding weekends.\n",
                "    \n",
                "    Args:\n",
                "        start_date (int): Start date in Excel serial date format\n",
                "        end_date (int): End date in Excel serial date format\n",
                "        \n",
                "    Returns:\n",
                "        int: Number of business days between the dates, excluding weekends\n",
                "    \"\"\"\n",
                "    import pandas as pd\n",
                "    from datetime import datetime, timedelta\n",
                "    \n",
                "    # Convert Excel serial dates to datetime\n",
                "    excel_start = datetime(1899, 12, 30) + timedelta(days=start_date)\n",
                "    excel_end = datetime(1899, 12, 30) + timedelta(days=end_date)\n",
                "    \n",
                "    # Convert to pandas Timestamp objects\n",
                "    pd_start = pd.Timestamp(excel_start)\n",
                "    pd_end = pd.Timestamp(excel_end)\n",
                "    \n",
                "    # Create business day frequency (Monday through Friday)\n",
                "    bday = pd.offsets.BDay()\n",
                "    \n",
                "    # Calculate business days using date_range with business day frequency\n",
                "    bdays = pd.date_range(start=pd_start, end=pd_end, freq=bday)\n",
                "    \n",
                "    return len(bdays)\n",
                "\n",
                "# Test cases\n",
                "test_cases = [\n",
                "    [43831, 43861],  # About a month apart\n",
                "    [44561, 44592],  # Another month span\n",
                "    [43831, 43838],  # One week\n",
                "    [44561, 44561],  # Same day\n",
                "    [45291, 45322]   # December 2023 to January 2024\n",
                "]\n",
                "\n",
                "# Excel usage: =BUSINESS_DAYS(43831, 43861)\n",
                "run_tests(business_days, test_cases)"
            ]
        },
        {
            "cell_type": "code",
            "execution_count": null,
            "id": "f81fdc02",
            "metadata": {},
            "outputs": [
                {
                    "name": "stdout",
                    "output_type": "stream",
                    "text": [
                        "Running 1 test cases for web_page_md\n",
                        "=====================================\n",
                        "Case 1: ['https://www.ycombinator.com/companies/airbnb'] -> \n",
                        "### Book accommodations around the world.\n",
                        "\n",
                        "Founded in August of 2008 and based in San Francisco, California, Airbnb is a trusted community marketplace for people to list, discover, and book unique accommodations around the world — online or from a mobile phone. Whether an apartment for a night, a castle for a week, or a villa for a month, Airbnb connects people to unique travel experiences, at any price point, in more than 33,000 cities and 192 countries. And with world-class customer service and a growing community of users, Airbnb is the easiest way for people to monetize their extra space and showcase it to an audience of millions. No global movement springs from individuals. It takes an entire team united behind something big. Together, we work hard, we laugh a lot, we brainstorm nonstop, we use hundreds of Post-Its a week, and we give the best high-fives in town. Headquartered in San Francisco, we have satellite offices in Dublin, London, Barcelona, Paris, Milan, Copenhagen, Berlin, Moscow, São Paolo, Sydney, and Singapore.\n",
                        "\n",
                        "Airbnb\n",
                        "\n",
                        "Founded:2008\n",
                        "\n",
                        "Team Size:6132\n",
                        "\n",
                        "Status:Public\n",
                        "\n",
                        "Location:San Francisco\n",
                        "\n",
                        "### Nathan Blecharczyk, Founder/CTO\n",
                        "\n",
                        "Nathan Blecharczyk is the co-founder, Chief Strategy Officer, and Chairman of Airbnb China. Nathan plays a leading role in driving key strategic initiatives across the global business. Previously he oversaw the creation of Airbnb’s engineering, data science, and performance marketing teams. Nathan became an entrepreneur in his youth, running a business while he was in high school that sold to clients in more than 20 countries. He earned a degree in Computer Science from Harvard University.\n",
                        "\n",
                        "### Brian Chesky, Founder/CEO\n",
                        "\n",
                        "Brian Chesky is the co-founder, Head of Community, and CEO of Airbnb, which he started with Joe Gebbia and Nathan Blecharczyk in 2008. Brian sets the company’s strategy to connect people to unique travel experiences, and drives Airbnb’s mission to create a world where anyone can belong anywhere. Originally from New York, Brian graduated from the Rhode Island School of Design where he received a Bachelor of Fine Arts in Industrial Design.\n",
                        "\n",
                        "### Joe Gebbia, Founder/CPO\n",
                        "\n",
                        "Joe Gebbia is the co-founder of Airbnb which began in his San Francisco living room and spread to nearly 7M listings in 191+ countries, changing how people trust each other. Joe now holds a strategic advisory position and serves on the Board of Directors at Airbnb. His latest venture, Samara, also cemented in economic empowerment, housing resources, and design, produces fully customized, factory-made homes designed to create rental income, house family, and form new types of housing communities.\n",
                        "\n",
                        "#### YC Sign Photo\n",
                        "\n"
                    ]
                }
            ],
            "source": [
                "import requests\n",
                "\n",
                "def web_page_md(url):\n",
                "    \"\"\"\n",
                "    Converts web page content to markdown using Jina.\n",
                "\n",
                "    Args:\n",
                "        url (str): The full URL to fetch.\n",
                "\n",
                "    Returns:\n",
                "        str: The content of the response from the URL.\n",
                "    \"\"\"\n",
                "    headers = {\n",
                "        \"X-Retain-Images\": \"none\"\n",
                "    }\n",
                "    base_url = \"https://r.jina.ai/\"\n",
                "    full_url = base_url + url\n",
                "    response = requests.get(full_url, headers=headers)\n",
                "    response.raise_for_status()\n",
                "    content = response.text.split(\"Markdown Content:\")[1]\n",
                "    return content\n",
                "\n",
                "# Test case using Y Combinator company page for \"airbnb\"\n",
                "test_cases = [\n",
                "    [\"https://www.ycombinator.com/companies/airbnb\"]\n",
                "]\n",
                "\n",
                "# Excel usage: =WEB_PAGE_MD(\"https://www.ycombinator.com/companies/airbnb\")\n",
                "\n",
                "run_tests(web_page_md, test_cases)"
            ]
        }
    ],
    "metadata": {
        "boardflare": {
            "author": "Boardflare",
            "description": "Simple examples to get started with.",
            "tags": [
                "simple"
            ],
            "title": "Simple Examples"
        },
        "kernelspec": {
            "display_name": "Python 3",
            "language": "python",
            "name": "python3"
        },
        "language_info": {
            "codemirror_mode": {
                "name": "ipython",
                "version": 3
            },
            "file_extension": ".py",
            "mimetype": "text/x-python",
            "name": "python",
            "nbconvert_exporter": "python",
            "pygments_lexer": "ipython3",
            "version": "3.12.6"
        }
    },
    "nbformat": 4,
    "nbformat_minor": 5
}
