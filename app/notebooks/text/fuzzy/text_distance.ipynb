{
 "cells": [
  {
   "cell_type": "code",
   "execution_count": 5,
   "metadata": {},
   "outputs": [
    {
     "data": {
      "text/plain": [
       "0.75"
      ]
     },
     "execution_count": 5,
     "metadata": {},
     "output_type": "execute_result"
    }
   ],
   "source": [
    "import textdistance\n",
    "\n",
    "# Basic usage of the textdistance library\n",
    "# Compute the normalized similarity of two strings\n",
    "textdistance.hamming.normalized_similarity('test', 'text')"
   ]
  },
  {
   "cell_type": "code",
   "execution_count": 6,
   "metadata": {
    "tags": [
     "parameters"
    ]
   },
   "outputs": [
    {
     "data": {
      "text/html": [
       "<div>\n",
       "<style scoped>\n",
       "    .dataframe tbody tr th:only-of-type {\n",
       "        vertical-align: middle;\n",
       "    }\n",
       "\n",
       "    .dataframe tbody tr th {\n",
       "        vertical-align: top;\n",
       "    }\n",
       "\n",
       "    .dataframe thead th {\n",
       "        text-align: right;\n",
       "    }\n",
       "</style>\n",
       "<table border=\"1\" class=\"dataframe\">\n",
       "  <thead>\n",
       "    <tr style=\"text-align: right;\">\n",
       "      <th></th>\n",
       "      <th>needles</th>\n",
       "    </tr>\n",
       "  </thead>\n",
       "  <tbody>\n",
       "    <tr>\n",
       "      <th>0</th>\n",
       "      <td>sample</td>\n",
       "    </tr>\n",
       "    <tr>\n",
       "      <th>1</th>\n",
       "      <td>exemplary</td>\n",
       "    </tr>\n",
       "    <tr>\n",
       "      <th>2</th>\n",
       "      <td>sampler</td>\n",
       "    </tr>\n",
       "    <tr>\n",
       "      <th>3</th>\n",
       "      <td>example</td>\n",
       "    </tr>\n",
       "  </tbody>\n",
       "</table>\n",
       "</div>"
      ],
      "text/plain": [
       "     needles\n",
       "0     sample\n",
       "1  exemplary\n",
       "2    sampler\n",
       "3    example"
      ]
     },
     "execution_count": 6,
     "metadata": {},
     "output_type": "execute_result"
    }
   ],
   "source": [
    "import pandas as pd\n",
    "\n",
    "# Setup globals similar to RUNPY function.\n",
    "# Arrays must be in pandas DataFrame.\n",
    "arg1 = pd.DataFrame([\"sample\", \"exemplary\", \"sampler\", \"example\"], columns=['needles'])\n",
    "arg2 = pd.DataFrame([\"samples\", \"exemplar\", \"sample\", \"examples\"], columns=['haystack'])\n",
    "arg3 = 'jaccard'\n",
    "\n",
    "arg1"
   ]
  },
  {
   "cell_type": "code",
   "execution_count": 7,
   "metadata": {
    "tags": [
     "function"
    ]
   },
   "outputs": [
    {
     "data": {
      "text/plain": [
       "[[3, 1.0], [2, 0.89], [3, 0.86], [2, 0.88]]"
      ]
     },
     "execution_count": 7,
     "metadata": {},
     "output_type": "execute_result"
    }
   ],
   "source": [
    "import textdistance\n",
    "import pandas as pd\n",
    "\n",
    "def text_distance(needle, haystack_df, algorithm='jaccard'):\n",
    "    # Get the algorithm function from textdistance\n",
    "    algo_func = getattr(textdistance, algorithm)\n",
    "    # Flatten the DataFrame to a list\n",
    "    haystack = haystack_df.values.flatten().tolist()\n",
    "    \n",
    "    # Check if needle is a DataFrame\n",
    "    if isinstance(needle, pd.DataFrame):\n",
    "        needle_list = needle.values.flatten().tolist()\n",
    "    else:\n",
    "        needle_list = [needle]\n",
    "    \n",
    "    results = [] \n",
    "    for needle_item in needle_list:\n",
    "        # Calculate similarity scores with normalization and round to 2 decimal places\n",
    "        # Adjust index to be 1-based\n",
    "        scores = [(index + 1, round(algo_func.normalized_similarity(needle_item, item), 2)) for index, item in enumerate(haystack)]\n",
    "        # Sort based on scores in descending order\n",
    "        scores.sort(key=lambda x: x[1], reverse=True)\n",
    "        # Append the top index and score to results as a list\n",
    "        results.append(list(scores[0]))\n",
    "\n",
    "    # results is 2D list, e.g. [[1, 0.75], [2, 0.85]]\n",
    "    return results\n",
    "\n",
    "text_distance(arg1, arg2, arg3)"
   ]
  },
  {
   "cell_type": "code",
   "execution_count": 8,
   "metadata": {},
   "outputs": [
    {
     "data": {
      "text/plain": [
       "[['Algorithm', 'Closest Match', 'Score'],\n",
       " ['jaccard', 3, 1.0],\n",
       " ['levenshtein', 3, 1.0],\n",
       " ['hamming', 3, 1.0],\n",
       " ['cosine', 3, 1.0],\n",
       " ['jaro', 3, 1.0],\n",
       " ['jaro_winkler', 3, 1.0],\n",
       " ['sorensen', 3, 1.0],\n",
       " ['ratcliff_obershelp', 3, 1.0],\n",
       " ['damerau_levenshtein', 3, 1.0],\n",
       " ['strcmp95', 3, 1.0],\n",
       " ['needleman_wunsch', 3, 1.0],\n",
       " ['smith_waterman', 3, 1.0],\n",
       " ['tversky', 3, 1.0],\n",
       " ['overlap', 3, 1.0],\n",
       " ['monge_elkan', 3, 1.0],\n",
       " ['lcsseq', 3, 1.0],\n",
       " ['lcsstr', 3, 1.0],\n",
       " ['gotoh', 3, 1.0],\n",
       " ['sorensen_dice', 3, 1.0],\n",
       " ['dice', 3, 1.0],\n",
       " ['bag', 3, 1.0],\n",
       " ['editex', 3, 1.0],\n",
       " ['mlipns', 1, 1.0],\n",
       " ['mra', 3, 1.0]]"
      ]
     },
     "execution_count": 8,
     "metadata": {},
     "output_type": "execute_result"
    }
   ],
   "source": [
    "# List of algorithms to test\n",
    "algorithms = [\n",
    "    'jaccard', 'levenshtein', 'hamming', 'cosine', 'jaro', 'jaro_winkler', \n",
    "    'sorensen', 'ratcliff_obershelp', 'damerau_levenshtein', 'strcmp95', \n",
    "    'needleman_wunsch', 'smith_waterman', 'tversky', 'overlap', 'monge_elkan',\n",
    "    'lcsseq', 'lcsstr', 'gotoh', 'sorensen_dice', 'dice', 'bag', 'editex', \n",
    "    'mlipns', 'mra'\n",
    "]\n",
    "\n",
    "# Example needle and haystack DataFrame\n",
    "needle = \"sampling\"\n",
    "haystack_df = pd.DataFrame([\"sample\", \"example\", \"sampling\", \"test\"])\n",
    "\n",
    "# Calculate results for each algorithm\n",
    "results = [['Algorithm', 'Closest Match', 'Score']]\n",
    "for algo in algorithms:\n",
    "    match, score = text_distance(needle, haystack_df, algo)[0]\n",
    "    results.append([algo, match, float(score)])\n",
    "\n",
    "# Return results as a nested list with headers\n",
    "results"
   ]
  }
 ],
 "metadata": {
  "kernelspec": {
   "display_name": "venv",
   "language": "python",
   "name": "python3"
  },
  "language_info": {
   "codemirror_mode": {
    "name": "ipython",
    "version": 3
   },
   "file_extension": ".py",
   "mimetype": "text/x-python",
   "name": "python",
   "nbconvert_exporter": "python",
   "pygments_lexer": "ipython3",
   "version": "3.12.6"
  }
 },
 "nbformat": 4,
 "nbformat_minor": 2
}
