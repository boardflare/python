{
 "cells": [
  {
   "cell_type": "code",
   "execution_count": 1,
   "metadata": {},
   "outputs": [
    {
     "data": {
      "text/plain": [
       "0.75"
      ]
     },
     "execution_count": 1,
     "metadata": {},
     "output_type": "execute_result"
    }
   ],
   "source": [
    "# Basic usage of the textdistance library\n",
    "import textdistance\n",
    "# Compute the normalized similarity of the two strings\n",
    "textdistance.hamming.normalized_similarity('test', 'text')"
   ]
  },
  {
   "cell_type": "code",
   "execution_count": 2,
   "metadata": {
    "tags": [
     "globals"
    ]
   },
   "outputs": [],
   "source": [
    "# Globals as converted by PY function.\n",
    "data1 = \"example\"\n",
    "data2 = [\"samples\", \"exemplar\", \"sample\", \"examples\"]\n",
    "data3 = 'jaccard'"
   ]
  },
  {
   "cell_type": "code",
   "execution_count": 3,
   "metadata": {
    "tags": [
     "function"
    ]
   },
   "outputs": [
    {
     "data": {
      "text/plain": [
       "[1, 0.875]"
      ]
     },
     "execution_count": 3,
     "metadata": {},
     "output_type": "execute_result"
    }
   ],
   "source": [
    "# function to run in Python for Excel\n",
    "import textdistance\n",
    "\n",
    "def fuzzy_distance(needle, haystack, algorithm='jaccard'):\n",
    "    # Get the algorithm function from textdistance\n",
    "    algo_func = getattr(textdistance, algorithm)\n",
    "    # Calculate similarity scores with normalization\n",
    "    scores = [(index, algo_func.normalized_similarity(needle, item)) for index, item in enumerate(haystack)]\n",
    "    # Sort based on scores in descending order\n",
    "    scores.sort(key=lambda x: x[1], reverse=True)\n",
    "    # Return the index and its score\n",
    "    return scores[0]\n",
    "\n",
    "# Example usage\n",
    "index, score = fuzzy_distance(data1, data2, data3)\n",
    "# Convert the output to a list, e.g. [0, 0.75]\n",
    "pyout = [index, score]\n",
    "pyout"
   ]
  },
  {
   "cell_type": "code",
   "execution_count": 4,
   "metadata": {},
   "outputs": [
    {
     "data": {
      "text/plain": [
       "[['Algorithm', 'Closest Match', 'Score'],\n",
       " ['jaccard', 1, 0.875],\n",
       " ['levenshtein', 3, 0.875],\n",
       " ['hamming', 3, 0.875],\n",
       " ['cosine', 1, 0.9354143466934853],\n",
       " ['jaro', 3, 0.9583333333333334],\n",
       " ['jaro_winkler', 3, 0.975],\n",
       " ['sorensen', 1, 0.9333333333333333],\n",
       " ['ratcliff_obershelp', 3, 0.9333333333333333],\n",
       " ['damerau_levenshtein', 3, 0.875],\n",
       " ['strcmp95', 3, 0.975],\n",
       " ['needleman_wunsch', 3, 0.875],\n",
       " ['smith_waterman', 3, 0.8571428571428572],\n",
       " ['tversky', 1, 0.875],\n",
       " ['overlap', 1, 1.0],\n",
       " ['monge_elkan', 1, 0.0714285714285714],\n",
       " ['lcsseq', 3, 0.875],\n",
       " ['lcsstr', 3, 0.875],\n",
       " ['gotoh', 3, 0.9285714285714286],\n",
       " ['sorensen_dice', 1, 0.9333333333333333],\n",
       " ['dice', 1, 0.9333333333333333],\n",
       " ['bag', 1, 0.875],\n",
       " ['editex', 3, 0.875],\n",
       " ['mlipns', 1, 1.0],\n",
       " ['mra', 1, 0.8333333333333334]]"
      ]
     },
     "execution_count": 4,
     "metadata": {},
     "output_type": "execute_result"
    }
   ],
   "source": [
    "# List of algorithms to test\n",
    "algorithms = [\n",
    "    'jaccard', 'levenshtein', 'hamming', 'cosine', 'jaro', 'jaro_winkler', \n",
    "    'sorensen', 'ratcliff_obershelp', 'damerau_levenshtein', 'strcmp95', \n",
    "    'needleman_wunsch', 'smith_waterman', 'tversky', 'overlap', 'monge_elkan',\n",
    "    'lcsseq', 'lcsstr', 'gotoh', 'sorensen_dice', 'dice', 'bag', 'editex', \n",
    "    'mlipns', 'mra'\n",
    "]\n",
    "\n",
    "# Calculate results for each algorithm\n",
    "results = [['Algorithm', 'Closest Match', 'Score']]\n",
    "for algo in algorithms:\n",
    "    match, score = fuzzy_distance(data1, data2, algo)\n",
    "    results.append([algo, match, float(score)])\n",
    "\n",
    "# Return results as a nested list with headers\n",
    "results"
   ]
  },
  {
   "cell_type": "raw",
   "metadata": {
    "tags": [
     "requirements"
    ],
    "vscode": {
     "languageId": "raw"
    }
   },
   "source": [
    "textdistance\n",
    "numpy"
   ]
  },
  {
   "cell_type": "code",
   "execution_count": 5,
   "metadata": {
    "tags": [
     "gradio"
    ]
   },
   "outputs": [
    {
     "name": "stderr",
     "output_type": "stream",
     "text": [
      "c:\\Users\\brent\\Code\\python\\venv\\Lib\\site-packages\\tqdm\\auto.py:21: TqdmWarning: IProgress not found. Please update jupyter and ipywidgets. See https://ipywidgets.readthedocs.io/en/stable/user_install.html\n",
      "  from .autonotebook import tqdm as notebook_tqdm\n"
     ]
    },
    {
     "name": "stdout",
     "output_type": "stream",
     "text": [
      "* Running on local URL:  http://127.0.0.1:7900\n",
      "\n",
      "To create a public link, set `share=True` in `launch()`.\n"
     ]
    },
    {
     "data": {
      "text/html": [
       "<div><iframe src=\"http://127.0.0.1:7900/\" width=\"100%\" height=\"500\" allow=\"autoplay; camera; microphone; clipboard-read; clipboard-write;\" frameborder=\"0\" allowfullscreen></iframe></div>"
      ],
      "text/plain": [
       "<IPython.core.display.HTML object>"
      ]
     },
     "metadata": {},
     "output_type": "display_data"
    },
    {
     "data": {
      "text/plain": []
     },
     "execution_count": 5,
     "metadata": {},
     "output_type": "execute_result"
    }
   ],
   "source": [
    "# Gradio demo\n",
    "import gradio as gr\n",
    "import pandas as pd\n",
    "import textdistance\n",
    "\n",
    "# Copy of fuzzy function\n",
    "def fuzzy_distance(needle, haystack, algorithm='jaccard'):\n",
    "    # Get the algorithm function from textdistance\n",
    "    algo_func = getattr(textdistance, algorithm)\n",
    "    # Calculate similarity scores with normalization\n",
    "    scores = [(index, algo_func.normalized_similarity(needle, item)) for index, item in enumerate(haystack)]\n",
    "    # Sort based on scores in descending order\n",
    "    scores.sort(key=lambda x: x[1], reverse=True)\n",
    "    # Return the index and its score\n",
    "    return scores[0]\n",
    "\n",
    "# Define the Gradio interface\n",
    "def gradio_fuzzy(needle, haystack_df, algorithm):\n",
    "    # Convert the DataFrame to a list of items\n",
    "    haystack_list = haystack_df['items'].tolist()\n",
    "    # Call the fuzzy function\n",
    "    index, score = fuzzy_distance(needle, haystack_list, algorithm)\n",
    "    # Return the index and score as a list\n",
    "    return [index, score]\n",
    "\n",
    "# List of algorithms to test\n",
    "algorithms = [\n",
    "    'jaccard', 'levenshtein', 'hamming', 'cosine', 'jaro', 'jaro_winkler', \n",
    "    'sorensen', 'ratcliff_obershelp', 'damerau_levenshtein', 'strcmp95', \n",
    "    'needleman_wunsch', 'smith_waterman', 'tversky', 'overlap', 'monge_elkan',\n",
    "    'lcsseq', 'lcsstr', 'gotoh', 'sorensen_dice', 'dice', 'bag', 'editex', \n",
    "    'mlipns', 'mra'\n",
    "]\n",
    "\n",
    "# Create the Gradio interface\n",
    "demo = gr.Interface(\n",
    "    fn=gradio_fuzzy,\n",
    "    inputs=[\n",
    "        gr.Textbox(label=\"lookup_value\"),\n",
    "        gr.Dataframe(headers=[\"items\"], label=\"lookup_array\", type=\"pandas\"),  # Set type to pandas DataFrame\n",
    "        gr.Dropdown(choices=algorithms, label=\"algorithm\")\n",
    "    ],\n",
    "    outputs=gr.Textbox(label=\"Result\"),  # Change output to Textbox\n",
    "    examples = [\n",
    "    [\"apple\", pd.DataFrame({\"items\": [\"apples\", \"apply\", \"ape\", \"grape\"]}), \"jaccard\"],\n",
    "    [\"cat\", pd.DataFrame({\"items\": [\"cats\", \"cut\", \"bat\", \"hat\"]}), \"levenshtein\"],\n",
    "    [\"hello\", pd.DataFrame({\"items\": [\"helloo\", \"helo\", \"hallo\", \"hey\"]}), \"cosine\"]\n",
    "    ]\n",
    ")\n",
    "\n",
    "# Launch the interface\n",
    "demo.launch(show_error=True)"
   ]
  },
  {
   "cell_type": "code",
   "execution_count": 6,
   "metadata": {},
   "outputs": [
    {
     "name": "stderr",
     "output_type": "stream",
     "text": [
      "EE\n",
      "======================================================================\n",
      "ERROR: test_jaccard (__main__.TestFuzzy.test_jaccard)\n",
      "----------------------------------------------------------------------\n",
      "Traceback (most recent call last):\n",
      "  File \"C:\\Users\\brent\\AppData\\Local\\Temp\\ipykernel_22372\\1883970406.py\", line 9, in test_jaccard\n",
      "    self.assertEqual(fuzzy(needle, haystack, algorithm), expected, 'Test case 1 failed')\n",
      "                     ^^^^^\n",
      "NameError: name 'fuzzy' is not defined\n",
      "\n",
      "======================================================================\n",
      "ERROR: test_levenshtein (__main__.TestFuzzy.test_levenshtein)\n",
      "----------------------------------------------------------------------\n",
      "Traceback (most recent call last):\n",
      "  File \"C:\\Users\\brent\\AppData\\Local\\Temp\\ipykernel_22372\\1883970406.py\", line 16, in test_levenshtein\n",
      "    self.assertEqual(fuzzy(needle, haystack, algorithm), expected, 'Test case 2 failed')\n",
      "                     ^^^^^\n",
      "NameError: name 'fuzzy' is not defined\n",
      "\n",
      "----------------------------------------------------------------------\n",
      "Ran 2 tests in 0.006s\n",
      "\n",
      "FAILED (errors=2)\n"
     ]
    }
   ],
   "source": [
    "import unittest\n",
    "\n",
    "class TestFuzzy(unittest.TestCase):\n",
    "    def test_jaccard(self):\n",
    "        needle = 'example'\n",
    "        haystack = ['samples', 'exemplar', 'sample', 'examples']\n",
    "        algorithm = 'jaccard'\n",
    "        expected = (1, 0.7)\n",
    "        self.assertEqual(fuzzy(needle, haystack, algorithm), expected, 'Test case 1 failed')\n",
    "\n",
    "    def test_levenshtein(self):\n",
    "        needle = 'example'\n",
    "        haystack = ['samples', 'exemplar', 'sample', 'examples']\n",
    "        algorithm = 'levenshtein'\n",
    "        expected = (3, 0.875)\n",
    "        self.assertEqual(fuzzy(needle, haystack, algorithm), expected, 'Test case 2 failed')\n",
    "\n",
    "if __name__ == '__main__':\n",
    "    unittest.main(argv=[''], exit=False)"
   ]
  }
 ],
 "metadata": {
  "kernelspec": {
   "display_name": "venv",
   "language": "python",
   "name": "python3"
  },
  "language_info": {
   "codemirror_mode": {
    "name": "ipython",
    "version": 3
   },
   "file_extension": ".py",
   "mimetype": "text/x-python",
   "name": "python",
   "nbconvert_exporter": "python",
   "pygments_lexer": "ipython3",
   "version": "3.12.6"
  }
 },
 "nbformat": 4,
 "nbformat_minor": 2
}
