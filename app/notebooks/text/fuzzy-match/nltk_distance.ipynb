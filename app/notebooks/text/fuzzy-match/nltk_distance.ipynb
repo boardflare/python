{
 "cells": [
  {
   "cell_type": "markdown",
   "metadata": {},
   "source": [
    "# `nltk_distance`\n",
    "\n",
    "## Overview\n",
    "The `nltk_distance` Python function uses the [NLTK library](https://www.nltk.org/) to calculate similarity scores between strings, returns an array containing the match index and similarity score.\n",
    "\n",
    "| Task | Description | Boardflare RUNPY() | Excel PY() | Source Code | Demo Workbook |\n",
    "|:----:|:------------|:-------:|:----------:|:-------:|:-------:|\n",
    "| [Fuzzy Matching](https://www.boardflare.com/tasks/nlp/fuzzy-match) | Uses [`nltk`](https://github.com/nltk/nltk) library for similarity scoring with `jaccard`, `jaro`, and `levenshtein`. | ✅ | ✅ | [Download](https://functions.boardflare.com/notebooks/text/fuzzy-match/nltk_distance.ipynb) | [Open](https://whistlernetworks.sharepoint.com/:x:/s/Boardflare/Ef_eyKV0npNBhKEJJwt5QfUB3qhMgeSBAbTA1wfUCtKF0A?e=S4CoUs) |\n",
    "\n",
    "## Usage\n",
    "\n",
    "Compares `lookup_value` with each value in the `lookup_array` and returns the index of the closest match and a normalized similarity score (within a given algorithm) between 0 and 1 (higher is more similar)\n",
    "\n",
    "```python\n",
    "nltk_distance(lookup_value, lookup_array, algorithm)\n",
    "```\n",
    "\n",
    "Arguments:\n",
    "\n",
    "| Argument        | Positional | Type           | Description                                                    |\n",
    "|-----------------|------------|----------------|----------------------------------------------------------------|\n",
    "| `lookup_value`  | arg1       | string or list | The string(s) to look up matches for                           |\n",
    "| `lookup_array`  | arg2       | list           | Array of strings to search through for matches                 |\n",
    "| `algorithm`     | arg3       | string         | The similarity algorithm to use (e.g. \"jaccard\", \"levenshtein\") |\n",
    "\n",
    "Returns a list of lists containing the match results. Each inner list contains:\n",
    "\n",
    "| Return Value | Type  | Description                                                         |\n",
    "|--------------|-------|---------------------------------------------------------------------|\n",
    "| Index        | int   | Index of the closest matching string (1-based)                      |\n",
    "| Similarity   | float | Similarity score between 0-1 (higher = more similar)                |\n",
    "\n",
    "### BOARDFLARE.RUNPY\n",
    "\n",
    "```excel\n",
    "=BOARDFLARE.RUNPY(\"text/fuzzy-match/nltk_distance.ipynb\", lookup_value, lookup_array, algorithm)\n",
    "```\n",
    "\n",
    "Example usage to find closest match for a string:\n",
    "\n",
    "```excel\n",
    "=BOARDFLARE.RUNPY(\"text/fuzzy-match/nltk_distance.ipynb\", \"example\", {\"sample\",\"test\",\"example\"}, \"jaccard\")\n",
    "```"
   ]
  },
  {
   "cell_type": "code",
   "execution_count": 8,
   "metadata": {},
   "outputs": [
    {
     "name": "stdout",
     "output_type": "stream",
     "text": [
      "Requirement already satisfied: nltk in c:\\users\\brent\\code\\functions\\venv\\lib\\site-packages (3.9.1)\n",
      "Requirement already satisfied: click in c:\\users\\brent\\code\\functions\\venv\\lib\\site-packages (from nltk) (8.1.7)\n",
      "Requirement already satisfied: joblib in c:\\users\\brent\\code\\functions\\venv\\lib\\site-packages (from nltk) (1.4.2)\n",
      "Requirement already satisfied: regex>=2021.8.3 in c:\\users\\brent\\code\\functions\\venv\\lib\\site-packages (from nltk) (2024.9.11)\n",
      "Requirement already satisfied: tqdm in c:\\users\\brent\\code\\functions\\venv\\lib\\site-packages (from nltk) (4.66.6)\n",
      "Requirement already satisfied: colorama in c:\\users\\brent\\code\\functions\\venv\\lib\\site-packages (from click->nltk) (0.4.6)\n",
      "Note: you may need to restart the kernel to use updated packages.\n"
     ]
    }
   ],
   "source": [
    "%pip install nltk"
   ]
  },
  {
   "cell_type": "code",
   "execution_count": 9,
   "metadata": {},
   "outputs": [
    {
     "data": {
      "text/plain": [
       "'{\"arg1\": [[\"sample\"], [\"exemplary\"], [\"sampler\"], [\"example\"]], \"arg2\": [[\"samples\"], [\"exemplar\"], [\"sample\"], [\"examples\"]], \"arg3\": \"jaccard\"}'"
      ]
     },
     "execution_count": 9,
     "metadata": {},
     "output_type": "execute_result"
    }
   ],
   "source": [
    "import pandas as pd\n",
    "import json\n",
    "\n",
    "# Setup globals similar to RUNPY function.\n",
    "# Arrays must be in pandas DataFrame.\n",
    "arg1 = pd.DataFrame([\"sample\", \"exemplary\", \"sampler\", \"example\"], columns=['needles'])\n",
    "arg2 = pd.DataFrame([\"samples\", \"exemplar\", \"sample\", \"examples\"], columns=['haystack'])\n",
    "arg3 = 'jaccard'\n",
    "\n",
    "# Serialize the arguments for loading into the demo workbook\n",
    "args = {\n",
    "    \"arg1\": arg1.values.tolist(),\n",
    "    \"arg2\": arg2.values.tolist(),\n",
    "    \"arg3\": arg3,\n",
    "}\n",
    "json.dumps(args)"
   ]
  },
  {
   "cell_type": "code",
   "execution_count": null,
   "metadata": {
    "tags": [
     "function"
    ]
   },
   "outputs": [
    {
     "data": {
      "text/plain": [
       "[[3, 1.0], [2, 0.88], [3, 0.83], [4, 0.86]]"
      ]
     },
     "execution_count": 10,
     "metadata": {},
     "output_type": "execute_result"
    }
   ],
   "source": [
    "import nltk\n",
    "import pandas as pd\n",
    "from nltk.metrics.distance import edit_distance, jaccard_distance, jaro_similarity\n",
    "from nltk.util import ngrams\n",
    "\n",
    "def nltk_distance(lookup_value, lookup_array_df, algorithm):\n",
    "    \"\"\"\n",
    "    Calculate the similarity between a lookup_value and a lookup_array using various distance algorithms.\n",
    "\n",
    "    Parameters:\n",
    "    lookup_value (str or pd.DataFrame): The string or DataFrame to search for.\n",
    "    lookup_array_df (pd.DataFrame): The DataFrame to search within.\n",
    "    algorithm (str): The algorithm to use for calculating similarity. Options are 'levenshtein', 'jaccard', and 'jaro'. Default is 'jaccard'.\n",
    "\n",
    "    Returns:\n",
    "    list: A list of lists where each sublist contains the index (1-based) and the similarity score of the most similar item in the lookup_array.\n",
    "    \"\"\"\n",
    "    # Define a dictionary to map algorithm names to functions\n",
    "    algo_funcs = {\n",
    "        'levenshtein': lambda x, y: 1 - edit_distance(x, y) / max(len(x), len(y)),\n",
    "        'jaccard': lambda x, y: 1 - jaccard_distance(set(ngrams(x, 2)), set(ngrams(y, 2))),\n",
    "        'jaro': jaro_similarity\n",
    "    }\n",
    "    \n",
    "    # Get the algorithm function from the dictionary\n",
    "    algo_func = algo_funcs.get(algorithm)\n",
    "    if algo_func is None:\n",
    "        raise ValueError(f\"Unsupported algorithm: {algorithm}\")\n",
    "    \n",
    "    # Flatten the DataFrame to a list\n",
    "    lookup_array = lookup_array_df.values.flatten().tolist()\n",
    "    \n",
    "    # Check if lookup_value is a DataFrame\n",
    "    if isinstance(lookup_value, pd.DataFrame):\n",
    "        lookup_value_list = lookup_value.values.flatten().tolist()\n",
    "    else:\n",
    "        lookup_value_list = [lookup_value]\n",
    "    \n",
    "    results = [] \n",
    "    for lookup_value_item in lookup_value_list:\n",
    "        # Calculate similarity scores and round to 2 decimal places\n",
    "        scores = [(index + 1, round(algo_func(lookup_value_item, item), 2)) for index, item in enumerate(lookup_array)]\n",
    "        \n",
    "        # Sort based on scores in descending order\n",
    "        scores.sort(key=lambda x: x[1], reverse=True)\n",
    "        # Append the top index and score to results as a list\n",
    "        results.append(list(scores[0]))\n",
    "\n",
    "    # results is 2D list, e.g. [[1, 0.75], [2, 0.85]]\n",
    "    return results\n",
    "\n",
    "nltk_distance(arg1, arg2, arg3)"
   ]
  },
  {
   "cell_type": "code",
   "execution_count": 11,
   "metadata": {},
   "outputs": [
    {
     "data": {
      "text/plain": [
       "[['Algorithm', 'Closest Match', 'Score'],\n",
       " ['jaccard', 1, 0.83],\n",
       " ['levenshtein', 1, 0.86],\n",
       " ['jaro', 1, 0.95]]"
      ]
     },
     "execution_count": 11,
     "metadata": {},
     "output_type": "execute_result"
    }
   ],
   "source": [
    "# List of algorithms to test\n",
    "algorithms = ['jaccard', 'levenshtein', 'jaro']\n",
    "\n",
    "# Example needle and haystack DataFrame\n",
    "needle = \"sampler\"\n",
    "haystack_df = pd.DataFrame([\"sample\", \"example\", \"sampling\", \"test\"])\n",
    "\n",
    "# Calculate results for each algorithm\n",
    "results = [['Algorithm', 'Closest Match', 'Score']]\n",
    "for algo in algorithms:\n",
    "    match, score = nltk_distance(needle, haystack_df, algo)[0]\n",
    "    results.append([algo, match, float(score)])\n",
    "\n",
    "# Return results as a nested list with headers\n",
    "results"
   ]
  }
 ],
 "metadata": {
  "kernelspec": {
   "display_name": "venv",
   "language": "python",
   "name": "python3"
  },
  "language_info": {
   "codemirror_mode": {
    "name": "ipython",
    "version": 3
   },
   "file_extension": ".py",
   "mimetype": "text/x-python",
   "name": "python",
   "nbconvert_exporter": "python",
   "pygments_lexer": "ipython3",
   "version": "3.12.6"
  }
 },
 "nbformat": 4,
 "nbformat_minor": 2
}
