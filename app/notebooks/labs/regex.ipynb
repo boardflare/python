{
    "cells": [
        {
            "cell_type": "code",
            "execution_count": 1,
            "id": "1",
            "metadata": {},
            "outputs": [
                {
                    "data": {
                        "text/plain": [
                            "True"
                        ]
                    },
                    "execution_count": 1,
                    "metadata": {},
                    "output_type": "execute_result"
                }
            ],
            "source": [
                "import re\n",
                "\n",
                "# Validate Email Address\n",
                "def validate_email(email):\n",
                "    pattern = r'^[\\w\\.-]+@[\\w\\.-]+\\.\\w{2,4}$'\n",
                "    return re.match(pattern, email) is not None\n",
                "\n",
                "validate_email('example@example.com')"
            ]
        },
        {
            "cell_type": "code",
            "execution_count": 11,
            "id": "2",
            "metadata": {},
            "outputs": [
                {
                    "data": {
                        "text/plain": [
                            "'123-456-7890'"
                        ]
                    },
                    "execution_count": 11,
                    "metadata": {},
                    "output_type": "execute_result"
                }
            ],
            "source": [
                "import re\n",
                "\n",
                "# Extract First Phone Number\n",
                "def extract_first_phone_number(text):\n",
                "    pattern = r'\\b\\d{3}[-.]?\\d{3}[-.]?\\d{4}\\b'\n",
                "    match = re.search(pattern, text)\n",
                "    return match.group(0) if match else None\n",
                "\n",
                "extract_first_phone_number('Call me at 123-456-7890 or 987.654.3210')"
            ]
        },
        {
            "cell_type": "code",
            "execution_count": 3,
            "id": "3",
            "metadata": {},
            "outputs": [
                {
                    "data": {
                        "text/plain": [
                            "True"
                        ]
                    },
                    "execution_count": 3,
                    "metadata": {},
                    "output_type": "execute_result"
                }
            ],
            "source": [
                "import re\n",
                "\n",
                "# Validate Date (MM/DD/YYYY)\n",
                "def validate_date(date):\n",
                "    pattern = r'^(0[1-9]|1[0-2])/(0[1-9]|[12][0-9]|3[01])/\\d{4}$'\n",
                "    return re.match(pattern, date) is not None\n",
                "\n",
                "validate_date('12/31/2023')"
            ]
        },
        {
            "cell_type": "code",
            "execution_count": 12,
            "id": "4",
            "metadata": {},
            "outputs": [
                {
                    "data": {
                        "text/plain": [
                            "'https://example.com'"
                        ]
                    },
                    "execution_count": 12,
                    "metadata": {},
                    "output_type": "execute_result"
                }
            ],
            "source": [
                "import re\n",
                "\n",
                "# Extract First URL\n",
                "def extract_first_url(text):\n",
                "    pattern = r'https?://(?:[-\\w.]|(?:%[\\da-fA-F]{2}))+'\n",
                "    match = re.search(pattern, text)\n",
                "    return match.group(0) if match else None\n",
                "\n",
                "extract_first_url('Visit https://example.com for more info')"
            ]
        },
        {
            "cell_type": "code",
            "execution_count": 5,
            "id": "5",
            "metadata": {},
            "outputs": [
                {
                    "data": {
                        "text/plain": [
                            "True"
                        ]
                    },
                    "execution_count": 5,
                    "metadata": {},
                    "output_type": "execute_result"
                }
            ],
            "source": [
                "import re\n",
                "\n",
                "# Validate IP Address\n",
                "def validate_ip(ip):\n",
                "    pattern = r'^(?:[0-9]{1,3}\\.){3}[0-9]{1,3}$'\n",
                "    return re.match(pattern, ip) is not None\n",
                "\n",
                "validate_ip('192.168.1.1')"
            ]
        },
        {
            "cell_type": "code",
            "execution_count": 13,
            "id": "6",
            "metadata": {},
            "outputs": [
                {
                    "data": {
                        "text/plain": [
                            "'weather'"
                        ]
                    },
                    "execution_count": 13,
                    "metadata": {},
                    "output_type": "execute_result"
                }
            ],
            "source": [
                "import re\n",
                "\n",
                "# Extract First Hashtag\n",
                "def extract_first_hashtag(text):\n",
                "    pattern = r'#(\\w+)'\n",
                "    match = re.search(pattern, text)\n",
                "    return match.group(1) if match else None\n",
                "\n",
                "extract_first_hashtag('Loving the #weather and #sunshine today!')"
            ]
        },
        {
            "cell_type": "code",
            "execution_count": 7,
            "id": "7",
            "metadata": {},
            "outputs": [
                {
                    "data": {
                        "text/plain": [
                            "True"
                        ]
                    },
                    "execution_count": 7,
                    "metadata": {},
                    "output_type": "execute_result"
                }
            ],
            "source": [
                "import re\n",
                "\n",
                "# Validate Credit Card Number\n",
                "def validate_credit_card(number):\n",
                "    pattern = r'^(?:4[0-9]{12}(?:[0-9]{3})?|5[1-5][0-9]{14}|3[47][0-9]{13}|3(?:0[0-5]|[68][0-9])[0-9]{11}|6(?:011|5[0-9]{2})[0-9]{12}|(?:2131|1800|35\\d{3})\\d{11})$'\n",
                "    return re.match(pattern, number) is not None\n",
                "\n",
                "validate_credit_card('4111111111111111')"
            ]
        },
        {
            "cell_type": "code",
            "execution_count": 8,
            "id": "8",
            "metadata": {},
            "outputs": [
                {
                    "data": {
                        "text/plain": [
                            "[('01', '01'), ('12', '31')]"
                        ]
                    },
                    "execution_count": 8,
                    "metadata": {},
                    "output_type": "execute_result"
                }
            ],
            "source": [
                "import re\n",
                "\n",
                "# Extract Dates (MM/DD/YYYY)\n",
                "def extract_dates(text):\n",
                "    pattern = r'\\b(0[1-9]|1[0-2])/(0[1-9]|[12][0-9]|3[01])/\\d{4}\\b'\n",
                "    return re.findall(pattern, text)\n",
                "\n",
                "extract_dates('Important dates: 01/01/2023, 12/31/2023')"
            ]
        },
        {
            "cell_type": "code",
            "execution_count": 9,
            "id": "9",
            "metadata": {},
            "outputs": [
                {
                    "data": {
                        "text/plain": [
                            "True"
                        ]
                    },
                    "execution_count": 9,
                    "metadata": {},
                    "output_type": "execute_result"
                }
            ],
            "source": [
                "import re\n",
                "\n",
                "# Validate Time (HH:MM)\n",
                "def validate_time(time):\n",
                "    pattern = r'^([01]?[0-9]|2[0-3]):[0-5][0-9]$'\n",
                "    return re.match(pattern, time) is not None\n",
                "\n",
                "validate_time('23:59')"
            ]
        },
        {
            "cell_type": "code",
            "execution_count": 10,
            "id": "10",
            "metadata": {},
            "outputs": [
                {
                    "data": {
                        "text/plain": [
                            "['Alice', 'Bob', 'Market']"
                        ]
                    },
                    "execution_count": 10,
                    "metadata": {},
                    "output_type": "execute_result"
                }
            ],
            "source": [
                "import re\n",
                "\n",
                "# Extract Words Starting with Capital Letter\n",
                "def extract_capital_words(text):\n",
                "    pattern = r'\\b[A-Z][a-z]*\\b'\n",
                "    return re.findall(pattern, text)\n",
                "\n",
                "extract_capital_words('Alice and Bob are going to the Market.')"
            ]
        },
        {
            "cell_type": "code",
            "execution_count": 15,
            "id": "8461cec0",
            "metadata": {},
            "outputs": [
                {
                    "data": {
                        "text/plain": [
                            "'alice,bob,sally'"
                        ]
                    },
                    "execution_count": 15,
                    "metadata": {},
                    "output_type": "execute_result"
                }
            ],
            "source": [
                "import re\n",
                "\n",
                "# Extract Words Starting with Capital Letter and return in lowercase as CSV\n",
                "def extract_capital_words(text):\n",
                "    pattern = r'\\b[A-Z][a-z]*\\b'\n",
                "    capital_words = re.findall(pattern, text)\n",
                "    lowercase_words = []\n",
                "    for word in capital_words:\n",
                "        lowercase_words.append(word.lower())\n",
                "    return ','.join(lowercase_words)\n",
                "\n",
                "extract_capital_words('Alice and Bob are friends of Sally.')"
            ]
        },
        {
            "cell_type": "code",
            "execution_count": 17,
            "id": "9b240f52",
            "metadata": {},
            "outputs": [
                {
                    "name": "stdout",
                    "output_type": "stream",
                    "text": [
                        "7\n"
                    ]
                }
            ],
            "source": [
                "# Function to add two numbers with one default argument\n",
                "def add_numbers(*args):\n",
                "    if len(args) < 2:\n",
                "        raise ValueError(\"At least two arguments are required\")\n",
                "    a = args[0]\n",
                "    b = args[1]\n",
                "    return a + b\n",
                "\n",
                "# Call the function directly with positional arguments\n",
                "print(add_numbers(5, 2))"
            ]
        }
    ],
    "metadata": {
        "kernelspec": {
            "display_name": "venv",
            "language": "python",
            "name": "python3"
        },
        "language_info": {
            "codemirror_mode": {
                "name": "ipython",
                "version": 3
            },
            "file_extension": ".py",
            "mimetype": "text/x-python",
            "name": "python",
            "nbconvert_exporter": "python",
            "pygments_lexer": "ipython3",
            "version": "3.12.6"
        }
    },
    "nbformat": 4,
    "nbformat_minor": 5
}
