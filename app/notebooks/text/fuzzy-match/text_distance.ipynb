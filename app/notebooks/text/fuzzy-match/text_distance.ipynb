{
 "cells": [
  {
   "cell_type": "markdown",
   "metadata": {},
   "source": [
    "# `text_distance`\n",
    "\n",
    "## Overview\n",
    "\n",
    "| Task | Description | Boardflare RUNPY() | Excel PY() | Source Code | Demo Workbook |\n",
    "|:----:|:------------|:-------:|:----------:|:-------:|:-------:|\n",
    "| [Fuzzy Matching](https://www.boardflare.com/tasks/nlp/fuzzy-match) | Uses Python [textdistance](https://github.com/life4/textdistance) library which implements edit distance, token, sequence, and phonetic algorithms to calculate the similarity between strings. | ✅ | - | [Download](https://functions.boardflare.com/notebooks/text/fuzzy-match/nltk_distance.ipynb) | [Open](https://whistlernetworks.sharepoint.com/:x:/s/Boardflare/EZGMy4IzfYhEsB4Vvi72r-YBIsneUMXilM8_Cv2T-WTvvQ?e=jVv6Bq) |\n",
    "\n",
    "## Usage\n",
    "\n",
    "Compares a `lookup_value` with each item in a `lookup_array` and returns the index of the closest match and a normalized similarity score between 0 and 1 (higher is more similar).\n",
    "\n",
    "```excel\n",
    "=BOARDFLARE.RUNPY(\"text/fuzzy-match/text_distance.ipynb\", lookup_value, lookup_array, algorithm)\n",
    "```\n",
    "\n",
    "Arguments:\n",
    "\n",
    "| Argument       | Positional | Type           | Description                                                                 |\n",
    "|----------------|------------|----------------|-----------------------------------------------------------------------------|\n",
    "| `lookup_value` | arg1       | string or list | String(s) to compare with the strings in the `lookup_array`.                |\n",
    "| `lookup_array` | arg2       | list           | A list of strings to compare with the `lookup_value`.                       |\n",
    "| `algorithm`    | arg3       | string         | Specifies the [similarity algorithm](#similarity-algorithms) to use.   |\n",
    "\n",
    "Returns an array with two columns:\n",
    "\n",
    "| Return Value | Type  | Description                                                                                  |\n",
    "|--------------|-------|----------------------------------------------------------------------------------------------|\n",
    "| Index        | int   | Index of the closest matching string in the `lookup_array` to each `lookup_value`.           |\n",
    "| Similarity   | float | The similarity score between 0 and 1, where a higher score indicates more similarity.        |\n",
    "\n",
    "## Lambda\n",
    "\n",
    "These example Excel LAMBDA functions illustrate further customization and are similar to the `XMATCH` and `XLOOKUP` functions in Excel, but with the added ability to set a similarity threshold and return \"No match\" if the similarity score is below the threshold.\n",
    "\n",
    "```excel\n",
    "=LAMBDA(lookup_value, lookup_array, [similarity_threshold], [algorithm],\n",
    "    LET(\n",
    "        threshold, IF(ISOMITTED(similarity_threshold), 0.7, similarity_threshold),\n",
    "        algo, IF(ISOMITTED(algorithm), \"jaccard\", algorithm),\n",
    "        result, BOARDFLARE.RUNPY(\"text/fuzzy-match/text_distance.ipynb\", lookup_value, lookup_array, algo),\n",
    "        index, INDEX(result, 1),\n",
    "        score, INDEX(result, 2),\n",
    "        IF(score >= threshold, index, \"No match\")\n",
    "    )\n",
    ")\n",
    "```\n",
    "\n",
    "```excel\n",
    "=LAMBDA(lookup_value, lookup_array, return_array, [similarity_threshold], [algorithm],\n",
    "    LET(\n",
    "        threshold, IF(ISOMITTED(similarity_threshold), 0.7, similarity_threshold),\n",
    "        algo, IF(ISOMITTED(algorithm), \"jaccard\", algorithm),\n",
    "        result, BOARDFLARE.RUNPY(\"text/fuzzy-match/text_distance.ipynb\", lookup_value, lookup_array, algo),\n",
    "        index, INDEX(result, 1),\n",
    "        score, INDEX(result, 2),\n",
    "        IF(score >= threshold, INDEX(return_array, index), \"No match\")\n",
    "    )\n",
    ")\n",
    "```\n",
    "\n",
    "## Similarity Algorithms\n",
    "\n",
    "The similarity algorithms available in `textdistance` are given in the tables below.\n",
    "\n",
    "### Edit Distance\n",
    "\n",
    "| Algorithm            | Description                                                                 |\n",
    "|----------------------|-----------------------------------------------------------------------------|\n",
    "| [`damerau_levenshtein`](https://en.wikipedia.org/wiki/Damerau%E2%80%93Levenshtein_distance) | Similar to Levenshtein but considers transpositions as a single edit. |\n",
    "| [`hamming`](https://en.wikipedia.org/wiki/Hamming_distance)            | Measures the number of positions at which the corresponding symbols are different. |\n",
    "| [`levenshtein`](https://en.wikipedia.org/wiki/Levenshtein_distance)        | Calculates the minimum number of single-character edits required to change one word into the other. |\n",
    "| [`jaro`](https://en.wikipedia.org/wiki/Jaro%E2%80%93Winkler_distance)               | Measures similarity between two strings, giving more weight to common prefixes. |\n",
    "| [`jaro_winkler`](https://en.wikipedia.org/wiki/Jaro%E2%80%93Winkler_distance)       | An extension of Jaro, giving more weight to strings that match from the beginning. |\n",
    "| [`lcsseq`](https://en.wikipedia.org/wiki/Longest_common_subsequence_problem)             | Measures the longest common subsequence. |\n",
    "| [`lcsstr`](https://docs.python.org/2/library/difflib.html#difflib.SequenceMatcher)             | Measures the longest common substring. |\n",
    "| [`ratcliff_obershelp`](https://en.wikipedia.org/wiki/Gestalt_Pattern_Matching) | Measures similarity based on the longest common subsequence. |\n",
    "| [`strcmp95`](http://cpansearch.perl.org/src/SCW/Text-JaroWinkler-0.1/strcmp95.c)           | A string comparison algorithm developed by the U.S. Census Bureau. |\n",
    "| [`needleman_wunsch`](https://en.wikipedia.org/wiki/Needleman%E2%80%93Wunsch_algorithm)   | A dynamic programming algorithm for sequence alignment. |\n",
    "| [`smith_waterman`](https://en.wikipedia.org/wiki/Smith%E2%80%93Waterman_algorithm)     | A dynamic programming algorithm for local sequence alignment. |\n",
    "| [`gotoh`](http://bioinfo.ict.ac.cn/~dbu/AlgorithmCourses/Lectures/LOA/Lec6-Sequence-Alignment-Affine-Gaps-Gotoh1982.pdf)              | An extension of Needleman-Wunsch with affine gap penalties. |\n",
    "\n",
    "### Token\n",
    "\n",
    "| Algorithm            | Description                                                                 |\n",
    "|----------------------|-----------------------------------------------------------------------------|\n",
    "| [`cosine`](https://en.wikipedia.org/wiki/Cosine_similarity)             | Measures the cosine of the angle between two non-zero vectors. |\n",
    "| [`jaccard`](https://en.wikipedia.org/wiki/Jaccard_index)            | Measures similarity between finite sample sets. |\n",
    "| [`overlap`](https://en.wikipedia.org/wiki/Overlap_coefficient)            | Measures the overlap coefficient between two sets. |\n",
    "| [`sorensen`](https://en.wikipedia.org/wiki/S%C3%B8rensen%E2%80%93Dice_coefficient)           | Measures similarity between two sets, based on the size of the intersection divided by the size of the union. |\n",
    "| [`sorensen_dice`](https://en.wikipedia.org/wiki/S%C3%B8rensen%E2%80%93Dice_coefficient)      | Similar to Sorensen, but uses Dice's coefficient. |\n",
    "| [`dice`](https://en.wikipedia.org/wiki/S%C3%B8rensen%E2%80%93Dice_coefficient)               | Another name for Sorensen-Dice coefficient. |\n",
    "| [`tversky`](https://en.wikipedia.org/wiki/Tversky_index)            | A generalization of the Jaccard index. |\n",
    "\n",
    "### Sequence\n",
    "\n",
    "| Algorithm            | Description                                                                 |\n",
    "|----------------------|-----------------------------------------------------------------------------|\n",
    "| [`bag`](https://github.com/Yomguithereal/talisman/blob/master/src/metrics/bag.js)                | Measures bag similarity between two sequences                               |\n",
    "| [`mlipns`](http://www.sial.iias.spb.su/files/386-386-1-PB.pdf)             | Measures similarity using the MLIPNS algorithm                              |\n",
    "| [`monge_elkan`](https://www.academia.edu/200314/Generalized_Monge-Elkan_Method_for_Approximate_Text_String_Comparison)        | A hybrid algorithm combining multiple similarity measures. $ME(a,b)$ |\n",
    "\n",
    "### Phonetic\n",
    "\n",
    "| Algorithm                                                                    | Description                                                                 |\n",
    "|------------------------------------------------------------------------------|-----------------------------------------------------------------------------|\n",
    "| [`mra`](https://en.wikipedia.org/wiki/Match_rating_approach)                 | Measures similarity using the MRA algorithm                                 |\n",
    "| [`editex`](https://anhaidgroup.github.io/py_stringmatching/v0.3.x/Editex.html) | Measures similarity using the Editex algorithm                              |                              |"
   ]
  },
  {
   "cell_type": "code",
   "execution_count": 7,
   "metadata": {
    "tags": [
     "parameters"
    ]
   },
   "outputs": [
    {
     "data": {
      "text/plain": [
       "'{\"arg1\": [[\"sample\"], [\"exemplary\"], [\"sampler\"], [\"example\"]], \"arg2\": [[\"samples\"], [\"exemplar\"], [\"sample\"], [\"examples\"]], \"arg3\": \"jaccard\"}'"
      ]
     },
     "execution_count": 7,
     "metadata": {},
     "output_type": "execute_result"
    }
   ],
   "source": [
    "import pandas as pd\n",
    "import json\n",
    "\n",
    "# Setup globals similar to RUNPY function.\n",
    "# Arrays must be in pandas DataFrame.\n",
    "arg1 = pd.DataFrame([\"sample\", \"exemplary\", \"sampler\", \"example\"], columns=['needles'])\n",
    "arg2 = pd.DataFrame([\"samples\", \"exemplar\", \"sample\", \"examples\"], columns=['haystack'])\n",
    "arg3 = 'jaccard'\n",
    "\n",
    "# Serialize the arguments for loading into the demo workbook\n",
    "args = {\n",
    "    \"arg1\": arg1.values.tolist(),\n",
    "    \"arg2\": arg2.values.tolist(),\n",
    "    \"arg3\": arg3,\n",
    "}\n",
    "json.dumps(args)"
   ]
  },
  {
   "cell_type": "code",
   "execution_count": 7,
   "metadata": {
    "tags": [
     "function"
    ]
   },
   "outputs": [
    {
     "data": {
      "text/plain": [
       "[[3, 1.0], [2, 0.89], [3, 0.86], [2, 0.88]]"
      ]
     },
     "execution_count": 7,
     "metadata": {},
     "output_type": "execute_result"
    }
   ],
   "source": [
    "import textdistance\n",
    "import pandas as pd\n",
    "\n",
    "def text_distance(needle, haystack_df, algorithm='jaccard'):\n",
    "    # Get the algorithm function from textdistance\n",
    "    algo_func = getattr(textdistance, algorithm)\n",
    "    # Flatten the DataFrame to a list\n",
    "    haystack = haystack_df.values.flatten().tolist()\n",
    "    \n",
    "    # Check if needle is a DataFrame\n",
    "    if isinstance(needle, pd.DataFrame):\n",
    "        needle_list = needle.values.flatten().tolist()\n",
    "    else:\n",
    "        needle_list = [needle]\n",
    "    \n",
    "    results = [] \n",
    "    for needle_item in needle_list:\n",
    "        # Calculate similarity scores with normalization and round to 2 decimal places\n",
    "        # Adjust index to be 1-based\n",
    "        scores = [(index + 1, round(algo_func.normalized_similarity(needle_item, item), 2)) for index, item in enumerate(haystack)]\n",
    "        # Sort based on scores in descending order\n",
    "        scores.sort(key=lambda x: x[1], reverse=True)\n",
    "        # Append the top index and score to results as a list\n",
    "        results.append(list(scores[0]))\n",
    "\n",
    "    # results is 2D list, e.g. [[1, 0.75], [2, 0.85]]\n",
    "    return results\n",
    "\n",
    "text_distance(arg1, arg2, arg3)"
   ]
  },
  {
   "cell_type": "code",
   "execution_count": 8,
   "metadata": {},
   "outputs": [
    {
     "data": {
      "text/plain": [
       "[['Algorithm', 'Closest Match', 'Score'],\n",
       " ['jaccard', 3, 1.0],\n",
       " ['levenshtein', 3, 1.0],\n",
       " ['hamming', 3, 1.0],\n",
       " ['cosine', 3, 1.0],\n",
       " ['jaro', 3, 1.0],\n",
       " ['jaro_winkler', 3, 1.0],\n",
       " ['sorensen', 3, 1.0],\n",
       " ['ratcliff_obershelp', 3, 1.0],\n",
       " ['damerau_levenshtein', 3, 1.0],\n",
       " ['strcmp95', 3, 1.0],\n",
       " ['needleman_wunsch', 3, 1.0],\n",
       " ['smith_waterman', 3, 1.0],\n",
       " ['tversky', 3, 1.0],\n",
       " ['overlap', 3, 1.0],\n",
       " ['monge_elkan', 3, 1.0],\n",
       " ['lcsseq', 3, 1.0],\n",
       " ['lcsstr', 3, 1.0],\n",
       " ['gotoh', 3, 1.0],\n",
       " ['sorensen_dice', 3, 1.0],\n",
       " ['dice', 3, 1.0],\n",
       " ['bag', 3, 1.0],\n",
       " ['editex', 3, 1.0],\n",
       " ['mlipns', 1, 1.0],\n",
       " ['mra', 3, 1.0]]"
      ]
     },
     "execution_count": 8,
     "metadata": {},
     "output_type": "execute_result"
    }
   ],
   "source": [
    "# List of algorithms to test\n",
    "algorithms = [\n",
    "    'jaccard', 'levenshtein', 'hamming', 'cosine', 'jaro', 'jaro_winkler', \n",
    "    'sorensen', 'ratcliff_obershelp', 'damerau_levenshtein', 'strcmp95', \n",
    "    'needleman_wunsch', 'smith_waterman', 'tversky', 'overlap', 'monge_elkan',\n",
    "    'lcsseq', 'lcsstr', 'gotoh', 'sorensen_dice', 'dice', 'bag', 'editex', \n",
    "    'mlipns', 'mra'\n",
    "]\n",
    "\n",
    "# Example needle and haystack DataFrame\n",
    "needle = \"sampling\"\n",
    "haystack_df = pd.DataFrame([\"sample\", \"example\", \"sampling\", \"test\"])\n",
    "\n",
    "# Calculate results for each algorithm\n",
    "results = [['Algorithm', 'Closest Match', 'Score']]\n",
    "for algo in algorithms:\n",
    "    match, score = text_distance(needle, haystack_df, algo)[0]\n",
    "    results.append([algo, match, float(score)])\n",
    "\n",
    "# Return results as a nested list with headers\n",
    "results"
   ]
  }
 ],
 "metadata": {
  "kernelspec": {
   "display_name": "venv",
   "language": "python",
   "name": "python3"
  },
  "language_info": {
   "codemirror_mode": {
    "name": "ipython",
    "version": 3
   },
   "file_extension": ".py",
   "mimetype": "text/x-python",
   "name": "python",
   "nbconvert_exporter": "python",
   "pygments_lexer": "ipython3",
   "version": "3.12.6"
  }
 },
 "nbformat": 4,
 "nbformat_minor": 2
}
